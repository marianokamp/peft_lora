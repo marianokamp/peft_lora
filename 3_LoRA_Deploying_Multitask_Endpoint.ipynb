{
 "cells": [
  {
   "cell_type": "markdown",
   "id": "b77769d5-585f-44a6-93ef-4e1582732e39",
   "metadata": {},
   "source": [
    "# Deploying LoRA tuned models - Multitask"
   ]
  },
  {
   "cell_type": "code",
   "execution_count": 1,
   "id": "6bac5451-bc46-4e8b-b5ed-9c738ddee993",
   "metadata": {},
   "outputs": [
    {
     "name": "stdout",
     "output_type": "stream",
     "text": [
      "Sun Mar 31 22:18:30 CEST 2024\n"
     ]
    }
   ],
   "source": [
    "!date"
   ]
  },
  {
   "cell_type": "code",
   "execution_count": 2,
   "id": "cbc21e95-bc88-4180-ab3e-e6c345612745",
   "metadata": {
    "tags": []
   },
   "outputs": [
    {
     "name": "stdout",
     "output_type": "stream",
     "text": [
      "/Users/mkamp/code/peft_lora\n"
     ]
    }
   ],
   "source": [
    "!pwd"
   ]
  },
  {
   "cell_type": "code",
   "execution_count": 3,
   "id": "f270784f-ad25-443c-80fa-6f72ac6bedde",
   "metadata": {
    "tags": []
   },
   "outputs": [],
   "source": [
    "#!pip install -Uq -r src/requirements.txt"
   ]
  },
  {
   "cell_type": "code",
   "execution_count": 4,
   "id": "34dd2ff2-e379-4157-aafb-a44593343310",
   "metadata": {},
   "outputs": [],
   "source": [
    "%load_ext autoreload\n",
    "%autoreload 2\n",
    "\n",
    "%matplotlib inline"
   ]
  },
  {
   "cell_type": "code",
   "execution_count": 5,
   "id": "9cc7e498-bbae-4a52-b633-1d1908597990",
   "metadata": {
    "tags": []
   },
   "outputs": [],
   "source": [
    "import sys\n",
    "sys.path.append('src')"
   ]
  },
  {
   "cell_type": "code",
   "execution_count": 6,
   "id": "009e9af2-11e2-49b2-9263-0b07e63e3201",
   "metadata": {},
   "outputs": [
    {
     "name": "stdout",
     "output_type": "stream",
     "text": [
      "sagemaker.config INFO - Not applying SDK defaults from location: /Library/Preferences/sagemaker/config.yaml\n",
      "sagemaker.config INFO - Not applying SDK defaults from location: /Users/mkamp/Library/Preferences/sagemaker/config.yaml\n"
     ]
    },
    {
     "name": "stderr",
     "output_type": "stream",
     "text": [
      "Some weights of RobertaForSequenceClassification were not initialized from the model checkpoint at roberta-base and are newly initialized: ['classifier.dense.bias', 'classifier.dense.weight', 'classifier.out_proj.bias', 'classifier.out_proj.weight']\n",
      "You should probably TRAIN this model on a down-stream task to be able to use it for predictions and inference.\n"
     ]
    },
    {
     "name": "stdout",
     "output_type": "stream",
     "text": [
      "INFO:util:Total parameters: 124,647,170, thereof learnable: 124,647,170 (100.0000%)\n"
     ]
    }
   ],
   "source": [
    "from sagemaker.pytorch import PyTorch\n",
    "\n",
    "import pandas as pd\n",
    "import altair as alt\n",
    "import time\n",
    "\n",
    "import boto3\n",
    "from nb_helper import *\n",
    "sm = boto3.client('sagemaker')"
   ]
  },
  {
   "cell_type": "code",
   "execution_count": 7,
   "id": "b0646a45-c75f-4236-b146-314db1c90c26",
   "metadata": {},
   "outputs": [],
   "source": [
    "# One run with sst2,\n",
    "# one training with sst2 LoRA, cola LoRA"
   ]
  },
  {
   "cell_type": "code",
   "execution_count": 8,
   "id": "0445cec6-55df-43a5-9d3f-5ec017515d43",
   "metadata": {},
   "outputs": [
    {
     "data": {
      "text/plain": [
       "{'entry_point': 'train.py',\n",
       " 'source_dir': 'src',\n",
       " 'instance_type': 'ml.g5.xlarge',\n",
       " 'instance_count': 1,\n",
       " 'framework_version': '2.1',\n",
       " 'py_version': 'py310',\n",
       " 'base_job_name': 'lora',\n",
       " 'use_spot_instances': True,\n",
       " 'max_run': 68640,\n",
       " 'max_wait': 68640,\n",
       " 'role': 'arn:aws:iam::753739741425:role/admin',\n",
       " 'metric_definitions': [{'Name': 'learning_rate',\n",
       "   'Regex': \"\\\\'learning_rate\\\\': (-?[0-9\\\\.e-]+)\"},\n",
       "  {'Name': 'train_epoch_duration', 'Regex': 'Epoch duration: (-?[0-9\\\\.]+)s'},\n",
       "  {'Name': 'gpu_memory', 'Regex': 'GPU Usage.*?\\\\(([0-9\\\\.]+)% used\\\\)'},\n",
       "  {'Name': 'train_samples_sec',\n",
       "   'Regex': \"\\\\'train_samples_per_second\\\\': (-?[0-9\\\\.]+)\"},\n",
       "  {'Name': 'valid_f1', 'Regex': \"\\\\'eval_f1\\\\': (-?[0-9\\\\.]+)\"},\n",
       "  {'Name': 'sst2_valid_matthews_correlation',\n",
       "   'Regex': \"\\\\'eval_sst2_matthews_correlation\\\\': (-?[0-9\\\\.]+)\"},\n",
       "  {'Name': 'cola_valid_matthews_correlation',\n",
       "   'Regex': \"\\\\'eval_cola_matthews_correlation\\\\': (-?[0-9\\\\.]+)\"},\n",
       "  {'Name': 'sst2_valid_f1', 'Regex': \"\\\\'eval_sst2_f1\\\\': (-?[0-9\\\\.]+)\"},\n",
       "  {'Name': 'cola_valid_f1', 'Regex': \"\\\\'eval_cola_f1\\\\': (-?[0-9\\\\.]+)\"},\n",
       "  {'Name': 'sst2_valid_acc',\n",
       "   'Regex': \"\\\\'eval_sst2_accuracy\\\\': (-?[0-9\\\\.]+)\"},\n",
       "  {'Name': 'cola_valid_acc',\n",
       "   'Regex': \"\\\\'eval_cola_accuracy\\\\': (-?[0-9\\\\.]+)\"},\n",
       "  {'Name': 'valid_loss', 'Regex': \"\\\\'eval_loss\\\\': (-?[0-9\\\\.]+)\"},\n",
       "  {'Name': 'train_loss', 'Regex': \"\\\\'loss\\\\': (-?[0-9\\\\.]+)\"},\n",
       "  {'Name': 'epoch', 'Regex': \"\\\\'epoch\\\\': (-?[0-9\\\\.]+)\"},\n",
       "  {'Name': 'eval_runtime', 'Regex': \"\\\\'eval_runtime\\\\': (-?[0-9\\\\.]+)\"},\n",
       "  {'Name': 'total_parameters', 'Regex': 'total_parameters: (-?[0-9\\\\.]+)'},\n",
       "  {'Name': 'learnable_parameters',\n",
       "   'Regex': 'learnable_parameters: (-?[0-9\\\\.]+)'},\n",
       "  {'Name': 'model_size_mb', 'Regex': 'Model size: (-?[0-9\\\\.]+) MB'}],\n",
       " 'hyperparameters': {'tasks': 'sst2',\n",
       "  'model-ckp': 'roberta-base',\n",
       "  'patience': 0,\n",
       "  'n-train-samples': 0,\n",
       "  'n-valid-samples': 0,\n",
       "  'n-warmup-steps': 0,\n",
       "  'warmup-ratio': 0.1,\n",
       "  'seed': 0,\n",
       "  'use-bf16': 1,\n",
       "  'clf-dropout': 0.05,\n",
       "  'hidden-dropout': 0.2,\n",
       "  'attention-dropout': 0.2,\n",
       "  'adam_beta1': 0.9,\n",
       "  'adam_beta2': 0.98,\n",
       "  'sst2-epochs': 10,\n",
       "  'sst2-lora-config': 'all',\n",
       "  'sst2-lora-dropout': 0.1,\n",
       "  'sst2-batch-size': 480,\n",
       "  'sst2-learning-rate': 0.0001,\n",
       "  'sst2-weight-decay': 0.01,\n",
       "  'cola-epochs': 10,\n",
       "  'cola-lora-config': 'all',\n",
       "  'cola-lora-dropout': 0.05,\n",
       "  'cola-batch-size': 224,\n",
       "  'cola-learning-rate': 0.00085,\n",
       "  'cola-weight-decay': 1e-09,\n",
       "  'use-gradient-checkpointing': 0}}"
      ]
     },
     "execution_count": 8,
     "metadata": {},
     "output_type": "execute_result"
    }
   ],
   "source": [
    "get_default_estimator_parameters()"
   ]
  },
  {
   "cell_type": "code",
   "execution_count": 9,
   "id": "3da7ed1b-9ee6-41fa-bea8-837c5755b251",
   "metadata": {},
   "outputs": [],
   "source": [
    "sst2_fullft_estimator = PyTorch(**get_default_estimator_parameters())\n",
    "sst2_fullft_estimator.set_hyperparameters(**{\n",
    "    'n-warmup-steps':     5, \n",
    "    'seed':               42, \n",
    "    'tasks':              'sst2',\n",
    "    \n",
    "    'sst2-lora-config':   'none', \n",
    "    'sst2-batch-size':   192, # 480\n",
    "    'sst2-learning-rate': 5.3e-5,\n",
    "    'sst2-weight-decay':  0.1\n",
    "})"
   ]
  },
  {
   "cell_type": "code",
   "execution_count": 10,
   "id": "3336157f-7e36-410f-8a0c-35af02016fb7",
   "metadata": {},
   "outputs": [
    {
     "data": {
      "text/plain": [
       "{'tasks': '\"\\\\\"sst2\\\\\"\"',\n",
       " 'model-ckp': '\"roberta-base\"',\n",
       " 'patience': '0',\n",
       " 'n-train-samples': '0',\n",
       " 'n-valid-samples': '0',\n",
       " 'n-warmup-steps': '\"5\"',\n",
       " 'warmup-ratio': '0.1',\n",
       " 'seed': '\"42\"',\n",
       " 'use-bf16': '1',\n",
       " 'clf-dropout': '0.05',\n",
       " 'hidden-dropout': '0.2',\n",
       " 'attention-dropout': '0.2',\n",
       " 'adam_beta1': '0.9',\n",
       " 'adam_beta2': '0.98',\n",
       " 'sst2-epochs': '10',\n",
       " 'sst2-lora-config': '\"\\\\\"none\\\\\"\"',\n",
       " 'sst2-lora-dropout': '0.1',\n",
       " 'sst2-batch-size': '\"192\"',\n",
       " 'sst2-learning-rate': '\"5.3e-05\"',\n",
       " 'sst2-weight-decay': '\"0.1\"',\n",
       " 'cola-epochs': '10',\n",
       " 'cola-lora-config': '\"all\"',\n",
       " 'cola-lora-dropout': '0.05',\n",
       " 'cola-batch-size': '224',\n",
       " 'cola-learning-rate': '0.00085',\n",
       " 'cola-weight-decay': '1e-09',\n",
       " 'use-gradient-checkpointing': '0'}"
      ]
     },
     "execution_count": 10,
     "metadata": {},
     "output_type": "execute_result"
    }
   ],
   "source": [
    "sst2_fullft_estimator.hyperparameters()"
   ]
  },
  {
   "cell_type": "code",
   "execution_count": 11,
   "id": "a052104f-a609-47e2-b225-6b4f713194a5",
   "metadata": {},
   "outputs": [
    {
     "name": "stdout",
     "output_type": "stream",
     "text": [
      "INFO:sagemaker.image_uris:image_uri is not presented, retrieving image_uri based on instance_type, framework etc.\n",
      "INFO:sagemaker:Creating training-job with name: lora-2024-03-31-20-18-38-053\n"
     ]
    }
   ],
   "source": [
    "sst2_fullft_estimator.fit(wait=False)"
   ]
  },
  {
   "cell_type": "code",
   "execution_count": 12,
   "id": "00f98b93-1586-4855-ab80-abdd593371fd",
   "metadata": {},
   "outputs": [],
   "source": [
    "sst2_cola_lora_estimator = PyTorch(**get_default_estimator_parameters())\n",
    "sst2_cola_lora_estimator.set_hyperparameters(**{\n",
    "\n",
    "    'n-warmup-steps':     5, \n",
    "    'seed':               42, \n",
    "    'tasks':              'sst2,cola',\n",
    "    \n",
    "    'sst2-lora-config':   'ff_u', \n",
    "    'sst2-lora-r':        4,\n",
    "    'sst2-batch-size':    224, # 480\n",
    "    'sst2-learning-rate': 2.3e-4,\n",
    "    'sst2-weight-decay':  0.1,\n",
    "    'sst2-lora-dropout':  0.15,\n",
    "    \n",
    "    'cola-lora-config':   'ff_u', \n",
    "    'cola-lora-r':        4,\n",
    "    'cola-batch-size':    384, # 224 \n",
    "    'cola-learning-rate': 9e-4,\n",
    "    'cola-weight-decay':  0.3,\n",
    "    'cola-lora-dropout':  0.3,\n",
    "    \n",
    "})"
   ]
  },
  {
   "cell_type": "code",
   "execution_count": 13,
   "id": "ccde7697-fb94-4344-9150-aa7e6a86bc4b",
   "metadata": {},
   "outputs": [
    {
     "data": {
      "text/plain": [
       "{'tasks': '\"\\\\\"sst2,cola\\\\\"\"',\n",
       " 'model-ckp': '\"roberta-base\"',\n",
       " 'patience': '0',\n",
       " 'n-train-samples': '0',\n",
       " 'n-valid-samples': '0',\n",
       " 'n-warmup-steps': '\"5\"',\n",
       " 'warmup-ratio': '0.1',\n",
       " 'seed': '\"42\"',\n",
       " 'use-bf16': '1',\n",
       " 'clf-dropout': '0.05',\n",
       " 'hidden-dropout': '0.2',\n",
       " 'attention-dropout': '0.2',\n",
       " 'adam_beta1': '0.9',\n",
       " 'adam_beta2': '0.98',\n",
       " 'sst2-epochs': '10',\n",
       " 'sst2-lora-config': '\"\\\\\"ff_u\\\\\"\"',\n",
       " 'sst2-lora-dropout': '\"0.15\"',\n",
       " 'sst2-batch-size': '\"224\"',\n",
       " 'sst2-learning-rate': '\"0.00023\"',\n",
       " 'sst2-weight-decay': '\"0.1\"',\n",
       " 'cola-epochs': '10',\n",
       " 'cola-lora-config': '\"\\\\\"ff_u\\\\\"\"',\n",
       " 'cola-lora-dropout': '\"0.3\"',\n",
       " 'cola-batch-size': '\"384\"',\n",
       " 'cola-learning-rate': '\"0.0009\"',\n",
       " 'cola-weight-decay': '\"0.3\"',\n",
       " 'use-gradient-checkpointing': '0',\n",
       " 'sst2-lora-r': '\"4\"',\n",
       " 'cola-lora-r': '\"4\"'}"
      ]
     },
     "execution_count": 13,
     "metadata": {},
     "output_type": "execute_result"
    }
   ],
   "source": [
    "sst2_cola_lora_estimator.hyperparameters()"
   ]
  },
  {
   "cell_type": "code",
   "execution_count": 14,
   "id": "2778bb22-9729-45db-b243-fd792e1e18f1",
   "metadata": {},
   "outputs": [
    {
     "name": "stdout",
     "output_type": "stream",
     "text": [
      "INFO:sagemaker.image_uris:image_uri is not presented, retrieving image_uri based on instance_type, framework etc.\n",
      "INFO:sagemaker:Creating training-job with name: lora-2024-03-31-20-18-40-603\n"
     ]
    }
   ],
   "source": [
    "sst2_cola_lora_estimator.fit(wait=False)"
   ]
  },
  {
   "cell_type": "markdown",
   "id": "95ebf961-7a8a-43cc-a7cf-8aa3b45497f9",
   "metadata": {},
   "source": [
    "### Prepare Inference (Tokenizer / Data)"
   ]
  },
  {
   "cell_type": "code",
   "execution_count": 15,
   "id": "4c28aa5b-f8e9-457b-96c0-be570a4c8bfd",
   "metadata": {},
   "outputs": [
    {
     "name": "stdout",
     "output_type": "stream",
     "text": [
      "INFO:datasets:PyTorch version 2.2.2 available.\n",
      "'NoneType' object has no attribute 'cadam32bit_grad_fp32'\n",
      "INFO:train:torch version: 2.2.2\n"
     ]
    },
    {
     "name": "stderr",
     "output_type": "stream",
     "text": [
      "Some weights of RobertaForSequenceClassification were not initialized from the model checkpoint at roberta-base and are newly initialized: ['classifier.dense.bias', 'classifier.dense.weight', 'classifier.out_proj.bias', 'classifier.out_proj.weight']\n",
      "You should probably TRAIN this model on a down-stream task to be able to use it for predictions and inference.\n"
     ]
    }
   ],
   "source": [
    "from util import evaluate_tasks\n",
    "from train import tasks, prepare_data, load_model_and_tokenizer_and_collator\n",
    "_, tokenizer , _   = load_model_and_tokenizer_and_collator('roberta-base')"
   ]
  },
  {
   "cell_type": "markdown",
   "id": "7ad3ec5b-1f60-4b28-a13d-fb1694177d41",
   "metadata": {},
   "source": [
    "#### Data"
   ]
  },
  {
   "cell_type": "code",
   "execution_count": 16,
   "id": "7150ff15-eba6-40e7-8338-156d31127ba4",
   "metadata": {},
   "outputs": [
    {
     "name": "stdout",
     "output_type": "stream",
     "text": [
      "INFO:train:Preparing data for task: sst2\n",
      "INFO:train:lapd called with n_train: None, n_valid: None\n",
      "INFO:train:Average train input length: 14.36\n",
      "INFO:train:Not randomizing order in input sequence.\n",
      "INFO:train:Preparing data for task: cola\n",
      "INFO:train:lapd called with n_train: None, n_valid: None\n",
      "INFO:train:Average train input length: 11.37\n",
      "INFO:train:Not randomizing order in input sequence.\n",
      "INFO:train:Preparing data for task: sst2\n",
      "INFO:train:lapd called with n_train: None, n_valid: None\n",
      "INFO:train:Average train input length: 14.36\n",
      "INFO:train:Preparing data for task: cola\n",
      "INFO:train:lapd called with n_train: None, n_valid: None\n",
      "INFO:train:Average train input length: 11.37\n",
      "INFO:train:Not randomizing order in input sequence.\n"
     ]
    }
   ],
   "source": [
    "sst2_data      = prepare_data(['sst2'], tokenizer)\n",
    "cola_data      = prepare_data(['cola'], tokenizer)\n",
    "sst2_cola_data = prepare_data(['sst2', 'cola'], tokenizer)"
   ]
  },
  {
   "cell_type": "code",
   "execution_count": 17,
   "id": "6df0ff26-67d7-4eae-b548-7e9c183a9ce5",
   "metadata": {},
   "outputs": [
    {
     "data": {
      "text/plain": [
       "[('sst2', 1, \"it 's a charming and often affecting journey . \"),\n",
       " ('sst2', 0, 'unflinchingly bleak and desperate ')]"
      ]
     },
     "execution_count": 17,
     "metadata": {},
     "output_type": "execute_result"
    }
   ],
   "source": [
    "sst2_data[:2]"
   ]
  },
  {
   "cell_type": "markdown",
   "id": "cc20f476-9168-418f-8cc6-ed3988f6f1c1",
   "metadata": {},
   "source": [
    "#### Deploying SST2 Endpoint"
   ]
  },
  {
   "cell_type": "code",
   "execution_count": 18,
   "id": "2d8aea97-7a0a-4b2a-a3f4-9d1a73245df7",
   "metadata": {},
   "outputs": [],
   "source": [
    "def get_job_metric(job, metric_names=None):\n",
    "    if isinstance(metric_names, str):\n",
    "        metrics = [metric_names]\n",
    "        \n",
    "    final_metrics = sm.describe_training_job(\n",
    "        TrainingJobName=sst2_fullft_estimator.latest_training_job.job_name)['FinalMetricDataList']\n",
    "    return [{fm['MetricName']: fm['Value']} for fm in final_metrics if metric_names is None or (fm['MetricName'] in metric_names)]"
   ]
  },
  {
   "cell_type": "code",
   "execution_count": 19,
   "id": "d3bd1537-9382-4773-ab65-43f42f6667d9",
   "metadata": {},
   "outputs": [],
   "source": [
    "sm.get_waiter('training_job_completed_or_stopped').wait(TrainingJobName=sst2_fullft_estimator.latest_training_job.job_name)"
   ]
  },
  {
   "cell_type": "code",
   "execution_count": 20,
   "id": "b21d9c04-08d7-4945-b85f-84497cdacb75",
   "metadata": {},
   "outputs": [
    {
     "data": {
      "text/plain": [
       "[{'sst2_valid_acc': 0.9392201900482178}]"
      ]
     },
     "execution_count": 20,
     "metadata": {},
     "output_type": "execute_result"
    }
   ],
   "source": [
    "get_job_metric(sst2_fullft_estimator.latest_training_job.job_name, 'sst2_valid_acc')"
   ]
  },
  {
   "cell_type": "code",
   "execution_count": 21,
   "id": "48614deb-7f2d-406a-be86-74658d892ffb",
   "metadata": {},
   "outputs": [
    {
     "name": "stdout",
     "output_type": "stream",
     "text": [
      "INFO:sagemaker:Repacking model artifact (s3://sagemaker-eu-west-1-753739741425/lora-2024-03-31-20-18-38-053/output/model.tar.gz), script artifact (s3://sagemaker-eu-west-1-753739741425/lora-2024-03-31-20-18-38-053/source/sourcedir.tar.gz), and dependencies ([]) into single tar.gz file located at s3://sagemaker-eu-west-1-753739741425/lora-2024-03-31-20-39-04-572/model.tar.gz. This may take some time depending on model size...\n",
      "INFO:sagemaker:Creating model with name: lora-2024-03-31-20-39-04-572\n",
      "INFO:sagemaker:Creating endpoint-config with name lora-2024-03-31-20-39-04-572\n",
      "INFO:sagemaker:Creating endpoint with name lora-2024-03-31-20-39-04-572\n",
      "--------!CPU times: user 1min 31s, sys: 14.1 s, total: 1min 45s\n",
      "Wall time: 7min 58s\n"
     ]
    }
   ],
   "source": [
    "%%time\n",
    "sst2_predictor = sst2_fullft_estimator.deploy(initial_instance_count=1, instance_type='ml.g4dn.xlarge') "
   ]
  },
  {
   "cell_type": "code",
   "execution_count": 22,
   "id": "9fa564ce-108e-46e5-a08d-81fdaa67bb4c",
   "metadata": {},
   "outputs": [],
   "source": [
    "def predict_standalone(inputs, tasks, bs=8):\n",
    "    request = {\n",
    "        'inputs': inputs, \n",
    "        'tasks': tasks, \n",
    "        'parameters': {'batch-size': bs}}\n",
    "    return sst2_predictor.predict(request)"
   ]
  },
  {
   "cell_type": "code",
   "execution_count": 23,
   "id": "4cc66f9b-3ff7-4e3f-9c93-ba6241f54026",
   "metadata": {},
   "outputs": [],
   "source": [
    "k = 7\n",
    "measurements = []\n",
    "def measure(name, f):\n",
    "    for i in range(k):\n",
    "        started = time.time()\n",
    "        f()\n",
    "        duration = time.time() - started\n",
    "        measurements.append((name, duration))\n",
    "        print(f'Measured {name} {duration:7.6f}s.')"
   ]
  },
  {
   "cell_type": "markdown",
   "id": "f704ebe8-2233-4025-801b-e33ed393fda1",
   "metadata": {},
   "source": [
    "#### Executing Inference SST2 Standalone"
   ]
  },
  {
   "cell_type": "code",
   "execution_count": 24,
   "id": "f5317632-d44f-4a2c-a0df-e451b509fd34",
   "metadata": {},
   "outputs": [
    {
     "name": "stdout",
     "output_type": "stream",
     "text": [
      ".     correct      task prediction   y\n",
      "        mean sum count        sum sum\n",
      "task                                 \n",
      "sst2     1.0  10    10          5   5\n",
      "Overall acc: 1.0\n",
      "CPU times: user 28.1 ms, sys: 9.93 ms, total: 38 ms\n",
      "Wall time: 2.52 s\n"
     ]
    }
   ],
   "source": [
    "%%time\n",
    "# Warmup with 10 records\n",
    "_ = evaluate_tasks(predict_standalone, sst2_data[:10], inner_bs=10, task_aware=False)"
   ]
  },
  {
   "cell_type": "code",
   "execution_count": 25,
   "id": "802d4dd6-5971-4c26-9add-73ddc286b9fc",
   "metadata": {},
   "outputs": [
    {
     "name": "stdout",
     "output_type": "stream",
     "text": [
      "....      correct       task prediction    y\n",
      "         mean  sum count        sum  sum\n",
      "task                                    \n",
      "sst2  0.93922  819   872        455  444\n",
      "Overall acc: 0.9392201834862385\n",
      "Measured Standalone SST-2 2.361973s.\n",
      "....      correct       task prediction    y\n",
      "         mean  sum count        sum  sum\n",
      "task                                    \n",
      "sst2  0.93922  819   872        455  444\n",
      "Overall acc: 0.9392201834862385\n",
      "Measured Standalone SST-2 2.331867s.\n",
      "....      correct       task prediction    y\n",
      "         mean  sum count        sum  sum\n",
      "task                                    \n",
      "sst2  0.93922  819   872        455  444\n",
      "Overall acc: 0.9392201834862385\n",
      "Measured Standalone SST-2 2.349175s.\n",
      "....      correct       task prediction    y\n",
      "         mean  sum count        sum  sum\n",
      "task                                    \n",
      "sst2  0.93922  819   872        455  444\n",
      "Overall acc: 0.9392201834862385\n",
      "Measured Standalone SST-2 2.353385s.\n",
      "....      correct       task prediction    y\n",
      "         mean  sum count        sum  sum\n",
      "task                                    \n",
      "sst2  0.93922  819   872        455  444\n",
      "Overall acc: 0.9392201834862385\n",
      "Measured Standalone SST-2 2.367928s.\n",
      "....      correct       task prediction    y\n",
      "         mean  sum count        sum  sum\n",
      "task                                    \n",
      "sst2  0.93922  819   872        455  444\n",
      "Overall acc: 0.9392201834862385\n",
      "Measured Standalone SST-2 2.337843s.\n",
      "....      correct       task prediction    y\n",
      "         mean  sum count        sum  sum\n",
      "task                                    \n",
      "sst2  0.93922  819   872        455  444\n",
      "Overall acc: 0.9392201834862385\n",
      "Measured Standalone SST-2 2.348287s.\n"
     ]
    }
   ],
   "source": [
    "measure('Standalone SST-2', lambda: evaluate_tasks(predict_standalone, sst2_data, outer_bs=256, inner_bs=256, task_aware=False))"
   ]
  },
  {
   "cell_type": "code",
   "execution_count": 26,
   "id": "e5601559-4b21-4b60-b2ee-78eba812a921",
   "metadata": {},
   "outputs": [
    {
     "name": "stdout",
     "output_type": "stream",
     "text": [
      "INFO:sagemaker:Deleting model with name: lora-2024-03-31-20-39-04-572\n",
      "INFO:sagemaker:Deleting endpoint configuration with name: lora-2024-03-31-20-39-04-572\n",
      "INFO:sagemaker:Deleting endpoint with name: lora-2024-03-31-20-39-04-572\n"
     ]
    }
   ],
   "source": [
    "sst2_predictor.delete_model()\n",
    "sst2_predictor.delete_endpoint()"
   ]
  },
  {
   "cell_type": "markdown",
   "id": "c78ba68e-2d72-4289-b6b2-c708b1faa198",
   "metadata": {},
   "source": [
    "#### Deploying Multi-Task Endpoints"
   ]
  },
  {
   "cell_type": "code",
   "execution_count": 27,
   "id": "d2727615-f7fe-48d5-b305-29dcb6d282c4",
   "metadata": {},
   "outputs": [],
   "source": [
    "sm.get_waiter('training_job_completed_or_stopped').wait(TrainingJobName=sst2_cola_lora_estimator.latest_training_job.job_name)"
   ]
  },
  {
   "cell_type": "code",
   "execution_count": 28,
   "id": "8c0ff331-d104-4ff6-ac81-dcf5b01be6cd",
   "metadata": {},
   "outputs": [
    {
     "data": {
      "text/plain": [
       "[{'sst2_valid_acc': 0.9392201900482178}]"
      ]
     },
     "execution_count": 28,
     "metadata": {},
     "output_type": "execute_result"
    }
   ],
   "source": [
    "get_job_metric(sst2_cola_lora_estimator.latest_training_job.job_name, ['sst2_valid_acc', 'cola_valid_acc'])"
   ]
  },
  {
   "cell_type": "code",
   "execution_count": 29,
   "id": "cd295a92-0758-40f4-b86d-acce79e7b0aa",
   "metadata": {},
   "outputs": [
    {
     "name": "stdout",
     "output_type": "stream",
     "text": [
      "INFO:sagemaker:Repacking model artifact (s3://sagemaker-eu-west-1-753739741425/lora-2024-03-31-20-18-40-603/output/model.tar.gz), script artifact (s3://sagemaker-eu-west-1-753739741425/lora-2024-03-31-20-18-40-603/source/sourcedir.tar.gz), and dependencies ([]) into single tar.gz file located at s3://sagemaker-eu-west-1-753739741425/lora-2024-03-31-20-47-23-961/model.tar.gz. This may take some time depending on model size...\n",
      "INFO:sagemaker:Creating model with name: lora-2024-03-31-20-47-23-961\n",
      "INFO:sagemaker:Creating endpoint-config with name lora-2024-03-31-20-47-23-961\n",
      "INFO:sagemaker:Creating endpoint with name lora-2024-03-31-20-47-23-961\n",
      "--------!CPU times: user 3min 50s, sys: 5.76 s, total: 3min 55s\n",
      "Wall time: 9min\n"
     ]
    }
   ],
   "source": [
    "%%time\n",
    "sst2_cola_lora_predictor = sst2_cola_lora_estimator.deploy(initial_instance_count=1, instance_type='ml.g4dn.xlarge')"
   ]
  },
  {
   "cell_type": "code",
   "execution_count": 30,
   "id": "842f206c-0424-48f6-9580-b4232d0cb9a1",
   "metadata": {},
   "outputs": [],
   "source": [
    "def predict(inputs, tasks, bs):\n",
    "    request = {\n",
    "        'inputs': inputs, \n",
    "        'tasks': tasks,\n",
    "        'parameters': {'batch-size': bs}\n",
    "    } \n",
    "    return sst2_cola_lora_predictor.predict(request)"
   ]
  },
  {
   "cell_type": "code",
   "execution_count": 31,
   "id": "773b6b06-12cd-43e1-a5ce-22cf03dec3e9",
   "metadata": {},
   "outputs": [
    {
     "name": "stdout",
     "output_type": "stream",
     "text": [
      ".     correct      task prediction   y\n",
      "        mean sum count        sum sum\n",
      "task                                 \n",
      "sst2     1.0  10    10          5   5\n",
      "Overall acc: 1.0\n",
      "CPU times: user 30.7 ms, sys: 5.98 ms, total: 36.6 ms\n",
      "Wall time: 787 ms\n"
     ]
    }
   ],
   "source": [
    "%%time\n",
    "# Warmup with 10 records\n",
    "_ = evaluate_tasks(predict, sst2_data[:10], inner_bs=128);"
   ]
  },
  {
   "cell_type": "markdown",
   "id": "98ac9f11-b3eb-4ddc-8f6c-6ad36f466c5e",
   "metadata": {},
   "source": [
    "# Now running inference in task aware mode on the LoRA trained task head for SST-2."
   ]
  },
  {
   "cell_type": "code",
   "execution_count": 32,
   "id": "84670ae6-9970-4584-8e4d-3a3519b492b7",
   "metadata": {},
   "outputs": [
    {
     "name": "stdout",
     "output_type": "stream",
     "text": [
      "....       correct       task prediction    y\n",
      "          mean  sum count        sum  sum\n",
      "task                                     \n",
      "sst2  0.941514  821   872        453  444\n",
      "Overall acc: 0.9415137614678899\n",
      "Measured SST-2 LoRA 2.340473s.\n",
      "....       correct       task prediction    y\n",
      "          mean  sum count        sum  sum\n",
      "task                                     \n",
      "sst2  0.941514  821   872        453  444\n",
      "Overall acc: 0.9415137614678899\n",
      "Measured SST-2 LoRA 2.306693s.\n",
      "....       correct       task prediction    y\n",
      "          mean  sum count        sum  sum\n",
      "task                                     \n",
      "sst2  0.941514  821   872        453  444\n",
      "Overall acc: 0.9415137614678899\n",
      "Measured SST-2 LoRA 2.307383s.\n",
      "....       correct       task prediction    y\n",
      "          mean  sum count        sum  sum\n",
      "task                                     \n",
      "sst2  0.941514  821   872        453  444\n",
      "Overall acc: 0.9415137614678899\n",
      "Measured SST-2 LoRA 2.307755s.\n",
      "....       correct       task prediction    y\n",
      "          mean  sum count        sum  sum\n",
      "task                                     \n",
      "sst2  0.941514  821   872        453  444\n",
      "Overall acc: 0.9415137614678899\n",
      "Measured SST-2 LoRA 2.311699s.\n",
      "....       correct       task prediction    y\n",
      "          mean  sum count        sum  sum\n",
      "task                                     \n",
      "sst2  0.941514  821   872        453  444\n",
      "Overall acc: 0.9415137614678899\n",
      "Measured SST-2 LoRA 2.275882s.\n",
      "....       correct       task prediction    y\n",
      "          mean  sum count        sum  sum\n",
      "task                                     \n",
      "sst2  0.941514  821   872        453  444\n",
      "Overall acc: 0.9415137614678899\n",
      "Measured SST-2 LoRA 2.291002s.\n"
     ]
    }
   ],
   "source": [
    "measure('SST-2 LoRA', lambda: evaluate_tasks(predict, sst2_data, inner_bs=256))"
   ]
  },
  {
   "cell_type": "markdown",
   "id": "46d1a323-2b17-4efd-8053-d8d7587b3cdb",
   "metadata": {},
   "source": [
    "# Now running inference in task aware mode on the LoRA trained task head for CoLA."
   ]
  },
  {
   "cell_type": "code",
   "execution_count": 33,
   "id": "17731677-44d0-44c6-9327-8dcc353e7774",
   "metadata": {},
   "outputs": [
    {
     "name": "stdout",
     "output_type": "stream",
     "text": [
      ".....       correct       task prediction    y\n",
      "          mean  sum count        sum  sum\n",
      "task                                     \n",
      "cola  0.785235  819  1043        893  721\n",
      "Overall acc: 0.785234899328859\n",
      "Measured CoLA LoRA 1.567847s.\n",
      ".....       correct       task prediction    y\n",
      "          mean  sum count        sum  sum\n",
      "task                                     \n",
      "cola  0.785235  819  1043        893  721\n",
      "Overall acc: 0.785234899328859\n",
      "Measured CoLA LoRA 1.568452s.\n",
      ".....       correct       task prediction    y\n",
      "          mean  sum count        sum  sum\n",
      "task                                     \n",
      "cola  0.785235  819  1043        893  721\n",
      "Overall acc: 0.785234899328859\n",
      "Measured CoLA LoRA 1.566868s.\n",
      ".....       correct       task prediction    y\n",
      "          mean  sum count        sum  sum\n",
      "task                                     \n",
      "cola  0.785235  819  1043        893  721\n",
      "Overall acc: 0.785234899328859\n",
      "Measured CoLA LoRA 1.553799s.\n",
      ".....       correct       task prediction    y\n",
      "          mean  sum count        sum  sum\n",
      "task                                     \n",
      "cola  0.785235  819  1043        893  721\n",
      "Overall acc: 0.785234899328859\n",
      "Measured CoLA LoRA 1.554144s.\n",
      ".....       correct       task prediction    y\n",
      "          mean  sum count        sum  sum\n",
      "task                                     \n",
      "cola  0.785235  819  1043        893  721\n",
      "Overall acc: 0.785234899328859\n",
      "Measured CoLA LoRA 1.555887s.\n",
      ".....       correct       task prediction    y\n",
      "          mean  sum count        sum  sum\n",
      "task                                     \n",
      "cola  0.785235  819  1043        893  721\n",
      "Overall acc: 0.785234899328859\n",
      "Measured CoLA LoRA 1.536167s.\n"
     ]
    }
   ],
   "source": [
    "measure('CoLA LoRA', lambda: evaluate_tasks(predict, cola_data, inner_bs=256))"
   ]
  },
  {
   "cell_type": "code",
   "execution_count": 34,
   "id": "1a472ec6-2e27-4d24-8fa1-cc3f20438d62",
   "metadata": {},
   "outputs": [
    {
     "name": "stdout",
     "output_type": "stream",
     "text": [
      "........       correct       task prediction    y\n",
      "          mean  sum count        sum  sum\n",
      "task                                     \n",
      "cola  0.785235  819  1043        893  721\n",
      "sst2  0.941514  821   872        453  444\n",
      "Overall acc: 0.856396866840731\n",
      "Measured CoLA and SST-2 LoRA 3.809797s.\n",
      "........       correct       task prediction    y\n",
      "          mean  sum count        sum  sum\n",
      "task                                     \n",
      "cola  0.785235  819  1043        893  721\n",
      "sst2  0.941514  821   872        453  444\n",
      "Overall acc: 0.856396866840731\n",
      "Measured CoLA and SST-2 LoRA 3.798334s.\n",
      "........       correct       task prediction    y\n",
      "          mean  sum count        sum  sum\n",
      "task                                     \n",
      "cola  0.785235  819  1043        893  721\n",
      "sst2  0.941514  821   872        453  444\n",
      "Overall acc: 0.856396866840731\n",
      "Measured CoLA and SST-2 LoRA 3.798508s.\n",
      "........       correct       task prediction    y\n",
      "          mean  sum count        sum  sum\n",
      "task                                     \n",
      "cola  0.785235  819  1043        893  721\n",
      "sst2  0.941514  821   872        453  444\n",
      "Overall acc: 0.856396866840731\n",
      "Measured CoLA and SST-2 LoRA 3.807919s.\n",
      "........       correct       task prediction    y\n",
      "          mean  sum count        sum  sum\n",
      "task                                     \n",
      "cola  0.785235  819  1043        893  721\n",
      "sst2  0.941514  821   872        453  444\n",
      "Overall acc: 0.856396866840731\n",
      "Measured CoLA and SST-2 LoRA 3.807874s.\n",
      "........       correct       task prediction    y\n",
      "          mean  sum count        sum  sum\n",
      "task                                     \n",
      "cola  0.785235  819  1043        893  721\n",
      "sst2  0.941514  821   872        453  444\n",
      "Overall acc: 0.856396866840731\n",
      "Measured CoLA and SST-2 LoRA 3.801367s.\n",
      "........       correct       task prediction    y\n",
      "          mean  sum count        sum  sum\n",
      "task                                     \n",
      "cola  0.785235  819  1043        893  721\n",
      "sst2  0.941514  821   872        453  444\n",
      "Overall acc: 0.856396866840731\n",
      "Measured CoLA and SST-2 LoRA 3.836647s.\n"
     ]
    }
   ],
   "source": [
    "measure('CoLA and SST-2 LoRA', lambda: evaluate_tasks(predict, sst2_cola_data, outer_bs=256, inner_bs=256))"
   ]
  },
  {
   "cell_type": "code",
   "execution_count": 35,
   "id": "418d23c5-bb46-4e41-9457-158d342f7fc7",
   "metadata": {},
   "outputs": [
    {
     "data": {
      "text/plain": [
       "([('cola', 1, 'Kim is eager to please Tom.'),\n",
       "  ('sst2',\n",
       "   0,\n",
       "   'schaeffer has to find some hook on which to hang his persistently useless movies , and it might as well be the resuscitation of the middle-aged character . ')],\n",
       " [('sst2', 1, \"it 's a charming and often affecting journey . \"),\n",
       "  ('sst2', 0, 'unflinchingly bleak and desperate ')])"
      ]
     },
     "execution_count": 35,
     "metadata": {},
     "output_type": "execute_result"
    }
   ],
   "source": [
    "import random\n",
    "shuffled_data = sst2_cola_data.copy()\n",
    "random.shuffle(shuffled_data)\n",
    "shuffled_data[:2], sst2_cola_data[:2]"
   ]
  },
  {
   "cell_type": "code",
   "execution_count": 36,
   "id": "b1412c2d-0188-4849-a417-8fc6798db4fa",
   "metadata": {},
   "outputs": [
    {
     "name": "stdout",
     "output_type": "stream",
     "text": [
      "\n",
      "### req_size   64:\n",
      "..............................       correct       task prediction    y\n",
      "          mean  sum count        sum  sum\n",
      "task                                     \n",
      "cola  0.785235  819  1043        893  721\n",
      "sst2  0.941514  821   872        453  444\n",
      "Overall acc: 0.856396866840731\n",
      "Measured CoLA and SST-2 LoRA (Shuffled, req_size=64) 4.835491s.\n",
      "..............................       correct       task prediction    y\n",
      "          mean  sum count        sum  sum\n",
      "task                                     \n",
      "cola  0.785235  819  1043        893  721\n",
      "sst2  0.941514  821   872        453  444\n",
      "Overall acc: 0.856396866840731\n",
      "Measured CoLA and SST-2 LoRA (Shuffled, req_size=64) 4.827936s.\n",
      "..............................       correct       task prediction    y\n",
      "          mean  sum count        sum  sum\n",
      "task                                     \n",
      "cola  0.785235  819  1043        893  721\n",
      "sst2  0.941514  821   872        453  444\n",
      "Overall acc: 0.856396866840731\n",
      "Measured CoLA and SST-2 LoRA (Shuffled, req_size=64) 4.813034s.\n",
      "..............................       correct       task prediction    y\n",
      "          mean  sum count        sum  sum\n",
      "task                                     \n",
      "cola  0.785235  819  1043        893  721\n",
      "sst2  0.941514  821   872        453  444\n",
      "Overall acc: 0.856396866840731\n",
      "Measured CoLA and SST-2 LoRA (Shuffled, req_size=64) 4.798724s.\n",
      "..............................       correct       task prediction    y\n",
      "          mean  sum count        sum  sum\n",
      "task                                     \n",
      "cola  0.785235  819  1043        893  721\n",
      "sst2  0.941514  821   872        453  444\n",
      "Overall acc: 0.856396866840731\n",
      "Measured CoLA and SST-2 LoRA (Shuffled, req_size=64) 4.818588s.\n",
      "..............................       correct       task prediction    y\n",
      "          mean  sum count        sum  sum\n",
      "task                                     \n",
      "cola  0.785235  819  1043        893  721\n",
      "sst2  0.941514  821   872        453  444\n",
      "Overall acc: 0.856396866840731\n",
      "Measured CoLA and SST-2 LoRA (Shuffled, req_size=64) 4.824540s.\n",
      "..............................       correct       task prediction    y\n",
      "          mean  sum count        sum  sum\n",
      "task                                     \n",
      "cola  0.785235  819  1043        893  721\n",
      "sst2  0.941514  821   872        453  444\n",
      "Overall acc: 0.856396866840731\n",
      "Measured CoLA and SST-2 LoRA (Shuffled, req_size=64) 4.806060s.\n",
      "\n",
      "### req_size  256:\n",
      "........       correct       task prediction    y\n",
      "          mean  sum count        sum  sum\n",
      "task                                     \n",
      "cola  0.785235  819  1043        893  721\n",
      "sst2  0.941514  821   872        453  444\n",
      "Overall acc: 0.856396866840731\n",
      "Measured CoLA and SST-2 LoRA (Shuffled, req_size=256) 4.038430s.\n",
      "........       correct       task prediction    y\n",
      "          mean  sum count        sum  sum\n",
      "task                                     \n",
      "cola  0.785235  819  1043        893  721\n",
      "sst2  0.941514  821   872        453  444\n",
      "Overall acc: 0.856396866840731\n",
      "Measured CoLA and SST-2 LoRA (Shuffled, req_size=256) 4.036217s.\n",
      "........       correct       task prediction    y\n",
      "          mean  sum count        sum  sum\n",
      "task                                     \n",
      "cola  0.785235  819  1043        893  721\n",
      "sst2  0.941514  821   872        453  444\n",
      "Overall acc: 0.856396866840731\n",
      "Measured CoLA and SST-2 LoRA (Shuffled, req_size=256) 4.015429s.\n",
      "........       correct       task prediction    y\n",
      "          mean  sum count        sum  sum\n",
      "task                                     \n",
      "cola  0.785235  819  1043        893  721\n",
      "sst2  0.941514  821   872        453  444\n",
      "Overall acc: 0.856396866840731\n",
      "Measured CoLA and SST-2 LoRA (Shuffled, req_size=256) 4.029916s.\n",
      "........       correct       task prediction    y\n",
      "          mean  sum count        sum  sum\n",
      "task                                     \n",
      "cola  0.785235  819  1043        893  721\n",
      "sst2  0.941514  821   872        453  444\n",
      "Overall acc: 0.856396866840731\n",
      "Measured CoLA and SST-2 LoRA (Shuffled, req_size=256) 4.010116s.\n",
      "........       correct       task prediction    y\n",
      "          mean  sum count        sum  sum\n",
      "task                                     \n",
      "cola  0.785235  819  1043        893  721\n",
      "sst2  0.941514  821   872        453  444\n",
      "Overall acc: 0.856396866840731\n",
      "Measured CoLA and SST-2 LoRA (Shuffled, req_size=256) 4.030785s.\n",
      "........       correct       task prediction    y\n",
      "          mean  sum count        sum  sum\n",
      "task                                     \n",
      "cola  0.785235  819  1043        893  721\n",
      "sst2  0.941514  821   872        453  444\n",
      "Overall acc: 0.856396866840731\n",
      "Measured CoLA and SST-2 LoRA (Shuffled, req_size=256) 3.995776s.\n",
      "\n",
      "### req_size  512:\n",
      "....       correct       task prediction    y\n",
      "          mean  sum count        sum  sum\n",
      "task                                     \n",
      "cola  0.785235  819  1043        893  721\n",
      "sst2  0.941514  821   872        453  444\n",
      "Overall acc: 0.856396866840731\n",
      "Measured CoLA and SST-2 LoRA (Shuffled, req_size=512) 4.184632s.\n",
      "....       correct       task prediction    y\n",
      "          mean  sum count        sum  sum\n",
      "task                                     \n",
      "cola  0.785235  819  1043        893  721\n",
      "sst2  0.941514  821   872        453  444\n",
      "Overall acc: 0.856396866840731\n",
      "Measured CoLA and SST-2 LoRA (Shuffled, req_size=512) 4.053811s.\n",
      "....       correct       task prediction    y\n",
      "          mean  sum count        sum  sum\n",
      "task                                     \n",
      "cola  0.785235  819  1043        893  721\n",
      "sst2  0.941514  821   872        453  444\n",
      "Overall acc: 0.856396866840731\n",
      "Measured CoLA and SST-2 LoRA (Shuffled, req_size=512) 4.092608s.\n",
      "....       correct       task prediction    y\n",
      "          mean  sum count        sum  sum\n",
      "task                                     \n",
      "cola  0.785235  819  1043        893  721\n",
      "sst2  0.941514  821   872        453  444\n",
      "Overall acc: 0.856396866840731\n",
      "Measured CoLA and SST-2 LoRA (Shuffled, req_size=512) 4.058788s.\n",
      "....       correct       task prediction    y\n",
      "          mean  sum count        sum  sum\n",
      "task                                     \n",
      "cola  0.785235  819  1043        893  721\n",
      "sst2  0.941514  821   872        453  444\n",
      "Overall acc: 0.856396866840731\n",
      "Measured CoLA and SST-2 LoRA (Shuffled, req_size=512) 4.068758s.\n",
      "....       correct       task prediction    y\n",
      "          mean  sum count        sum  sum\n",
      "task                                     \n",
      "cola  0.785235  819  1043        893  721\n",
      "sst2  0.941514  821   872        453  444\n",
      "Overall acc: 0.856396866840731\n",
      "Measured CoLA and SST-2 LoRA (Shuffled, req_size=512) 4.054235s.\n",
      "....       correct       task prediction    y\n",
      "          mean  sum count        sum  sum\n",
      "task                                     \n",
      "cola  0.785235  819  1043        893  721\n",
      "sst2  0.941514  821   872        453  444\n",
      "Overall acc: 0.856396866840731\n",
      "Measured CoLA and SST-2 LoRA (Shuffled, req_size=512) 4.077520s.\n",
      "\n",
      "### req_size 1024:\n",
      "..       correct       task prediction    y\n",
      "          mean  sum count        sum  sum\n",
      "task                                     \n",
      "cola  0.785235  819  1043        893  721\n",
      "sst2  0.941514  821   872        453  444\n",
      "Overall acc: 0.856396866840731\n",
      "Measured CoLA and SST-2 LoRA (Shuffled, req_size=1024) 3.944459s.\n",
      "..       correct       task prediction    y\n",
      "          mean  sum count        sum  sum\n",
      "task                                     \n",
      "cola  0.785235  819  1043        893  721\n",
      "sst2  0.941514  821   872        453  444\n",
      "Overall acc: 0.856396866840731\n",
      "Measured CoLA and SST-2 LoRA (Shuffled, req_size=1024) 3.904110s.\n",
      "..       correct       task prediction    y\n",
      "          mean  sum count        sum  sum\n",
      "task                                     \n",
      "cola  0.785235  819  1043        893  721\n",
      "sst2  0.941514  821   872        453  444\n",
      "Overall acc: 0.856396866840731\n",
      "Measured CoLA and SST-2 LoRA (Shuffled, req_size=1024) 3.914973s.\n",
      "..       correct       task prediction    y\n",
      "          mean  sum count        sum  sum\n",
      "task                                     \n",
      "cola  0.785235  819  1043        893  721\n",
      "sst2  0.941514  821   872        453  444\n",
      "Overall acc: 0.856396866840731\n",
      "Measured CoLA and SST-2 LoRA (Shuffled, req_size=1024) 3.932122s.\n",
      "..       correct       task prediction    y\n",
      "          mean  sum count        sum  sum\n",
      "task                                     \n",
      "cola  0.785235  819  1043        893  721\n",
      "sst2  0.941514  821   872        453  444\n",
      "Overall acc: 0.856396866840731\n",
      "Measured CoLA and SST-2 LoRA (Shuffled, req_size=1024) 3.893598s.\n",
      "..       correct       task prediction    y\n",
      "          mean  sum count        sum  sum\n",
      "task                                     \n",
      "cola  0.785235  819  1043        893  721\n",
      "sst2  0.941514  821   872        453  444\n",
      "Overall acc: 0.856396866840731\n",
      "Measured CoLA and SST-2 LoRA (Shuffled, req_size=1024) 3.907622s.\n",
      "..       correct       task prediction    y\n",
      "          mean  sum count        sum  sum\n",
      "task                                     \n",
      "cola  0.785235  819  1043        893  721\n",
      "sst2  0.941514  821   872        453  444\n",
      "Overall acc: 0.856396866840731\n",
      "Measured CoLA and SST-2 LoRA (Shuffled, req_size=1024) 3.911135s.\n"
     ]
    }
   ],
   "source": [
    "for req_size in [64, 256, 512, 1024]:\n",
    "    print(f'\\n### req_size {req_size:4d}:')\n",
    "    measure(f'CoLA and SST-2 LoRA (Shuffled, req_size={req_size})',  lambda: evaluate_tasks(predict, shuffled_data, outer_bs=req_size, inner_bs=256))"
   ]
  },
  {
   "cell_type": "code",
   "execution_count": 37,
   "id": "b1210904-419c-49fd-bbf3-e585987a68e8",
   "metadata": {},
   "outputs": [
    {
     "data": {
      "text/plain": [
       "[('Standalone SST-2', 2.3619730472564697),\n",
       " ('Standalone SST-2', 2.331866979598999),\n",
       " ('Standalone SST-2', 2.349174976348877),\n",
       " ('Standalone SST-2', 2.3533852100372314),\n",
       " ('Standalone SST-2', 2.3679277896881104),\n",
       " ('Standalone SST-2', 2.3378429412841797),\n",
       " ('Standalone SST-2', 2.3482871055603027),\n",
       " ('SST-2 LoRA', 2.340473175048828),\n",
       " ('SST-2 LoRA', 2.3066933155059814),\n",
       " ('SST-2 LoRA', 2.3073830604553223),\n",
       " ('SST-2 LoRA', 2.3077549934387207),\n",
       " ('SST-2 LoRA', 2.311699390411377),\n",
       " ('SST-2 LoRA', 2.2758820056915283),\n",
       " ('SST-2 LoRA', 2.291001796722412),\n",
       " ('CoLA LoRA', 1.5678470134735107),\n",
       " ('CoLA LoRA', 1.5684518814086914),\n",
       " ('CoLA LoRA', 1.5668680667877197),\n",
       " ('CoLA LoRA', 1.5537991523742676),\n",
       " ('CoLA LoRA', 1.5541441440582275),\n",
       " ('CoLA LoRA', 1.555887222290039),\n",
       " ('CoLA LoRA', 1.5361671447753906),\n",
       " ('CoLA and SST-2 LoRA', 3.8097968101501465),\n",
       " ('CoLA and SST-2 LoRA', 3.7983341217041016),\n",
       " ('CoLA and SST-2 LoRA', 3.7985079288482666),\n",
       " ('CoLA and SST-2 LoRA', 3.8079190254211426),\n",
       " ('CoLA and SST-2 LoRA', 3.8078742027282715),\n",
       " ('CoLA and SST-2 LoRA', 3.8013670444488525),\n",
       " ('CoLA and SST-2 LoRA', 3.836646795272827),\n",
       " ('CoLA and SST-2 LoRA (Shuffled, req_size=64)', 4.835491180419922),\n",
       " ('CoLA and SST-2 LoRA (Shuffled, req_size=64)', 4.827936172485352),\n",
       " ('CoLA and SST-2 LoRA (Shuffled, req_size=64)', 4.813033819198608),\n",
       " ('CoLA and SST-2 LoRA (Shuffled, req_size=64)', 4.798723936080933),\n",
       " ('CoLA and SST-2 LoRA (Shuffled, req_size=64)', 4.818588018417358),\n",
       " ('CoLA and SST-2 LoRA (Shuffled, req_size=64)', 4.824540138244629),\n",
       " ('CoLA and SST-2 LoRA (Shuffled, req_size=64)', 4.806059837341309),\n",
       " ('CoLA and SST-2 LoRA (Shuffled, req_size=256)', 4.038430213928223),\n",
       " ('CoLA and SST-2 LoRA (Shuffled, req_size=256)', 4.036216735839844),\n",
       " ('CoLA and SST-2 LoRA (Shuffled, req_size=256)', 4.0154290199279785),\n",
       " ('CoLA and SST-2 LoRA (Shuffled, req_size=256)', 4.029916286468506),\n",
       " ('CoLA and SST-2 LoRA (Shuffled, req_size=256)', 4.0101158618927),\n",
       " ('CoLA and SST-2 LoRA (Shuffled, req_size=256)', 4.030784845352173),\n",
       " ('CoLA and SST-2 LoRA (Shuffled, req_size=256)', 3.9957761764526367),\n",
       " ('CoLA and SST-2 LoRA (Shuffled, req_size=512)', 4.184632062911987),\n",
       " ('CoLA and SST-2 LoRA (Shuffled, req_size=512)', 4.053811311721802),\n",
       " ('CoLA and SST-2 LoRA (Shuffled, req_size=512)', 4.0926079750061035),\n",
       " ('CoLA and SST-2 LoRA (Shuffled, req_size=512)', 4.058788061141968),\n",
       " ('CoLA and SST-2 LoRA (Shuffled, req_size=512)', 4.068758010864258),\n",
       " ('CoLA and SST-2 LoRA (Shuffled, req_size=512)', 4.054234743118286),\n",
       " ('CoLA and SST-2 LoRA (Shuffled, req_size=512)', 4.07751989364624),\n",
       " ('CoLA and SST-2 LoRA (Shuffled, req_size=1024)', 3.9444589614868164),\n",
       " ('CoLA and SST-2 LoRA (Shuffled, req_size=1024)', 3.9041101932525635),\n",
       " ('CoLA and SST-2 LoRA (Shuffled, req_size=1024)', 3.914973020553589),\n",
       " ('CoLA and SST-2 LoRA (Shuffled, req_size=1024)', 3.932121753692627),\n",
       " ('CoLA and SST-2 LoRA (Shuffled, req_size=1024)', 3.8935983180999756),\n",
       " ('CoLA and SST-2 LoRA (Shuffled, req_size=1024)', 3.9076220989227295),\n",
       " ('CoLA and SST-2 LoRA (Shuffled, req_size=1024)', 3.911134958267212)]"
      ]
     },
     "execution_count": 37,
     "metadata": {},
     "output_type": "execute_result"
    }
   ],
   "source": [
    "measurements"
   ]
  },
  {
   "cell_type": "code",
   "execution_count": 38,
   "id": "721c20bf-049d-4473-a1b8-4707d1b7806b",
   "metadata": {},
   "outputs": [],
   "source": [
    "df = pd.DataFrame(measurements, columns=['type', 'duration_s'])"
   ]
  },
  {
   "cell_type": "code",
   "execution_count": 39,
   "id": "e6c0b0d0-ec14-4751-86a5-94e6fc9ad553",
   "metadata": {},
   "outputs": [
    {
     "data": {
      "text/html": [
       "<div>\n",
       "<style scoped>\n",
       "    .dataframe tbody tr th:only-of-type {\n",
       "        vertical-align: middle;\n",
       "    }\n",
       "\n",
       "    .dataframe tbody tr th {\n",
       "        vertical-align: top;\n",
       "    }\n",
       "\n",
       "    .dataframe thead th {\n",
       "        text-align: right;\n",
       "    }\n",
       "</style>\n",
       "<table border=\"1\" class=\"dataframe\">\n",
       "  <thead>\n",
       "    <tr style=\"text-align: right;\">\n",
       "      <th></th>\n",
       "      <th>duration_s</th>\n",
       "    </tr>\n",
       "    <tr>\n",
       "      <th>type</th>\n",
       "      <th></th>\n",
       "    </tr>\n",
       "  </thead>\n",
       "  <tbody>\n",
       "    <tr>\n",
       "      <th>CoLA LoRA</th>\n",
       "      <td>1.557595</td>\n",
       "    </tr>\n",
       "    <tr>\n",
       "      <th>CoLA and SST-2 LoRA</th>\n",
       "      <td>3.808635</td>\n",
       "    </tr>\n",
       "    <tr>\n",
       "      <th>CoLA and SST-2 LoRA (Shuffled, req_size=1024)</th>\n",
       "      <td>3.915431</td>\n",
       "    </tr>\n",
       "    <tr>\n",
       "      <th>CoLA and SST-2 LoRA (Shuffled, req_size=256)</th>\n",
       "      <td>4.022381</td>\n",
       "    </tr>\n",
       "    <tr>\n",
       "      <th>CoLA and SST-2 LoRA (Shuffled, req_size=512)</th>\n",
       "      <td>4.084336</td>\n",
       "    </tr>\n",
       "    <tr>\n",
       "      <th>CoLA and SST-2 LoRA (Shuffled, req_size=64)</th>\n",
       "      <td>4.817768</td>\n",
       "    </tr>\n",
       "    <tr>\n",
       "      <th>SST-2 LoRA</th>\n",
       "      <td>2.305841</td>\n",
       "    </tr>\n",
       "    <tr>\n",
       "      <th>Standalone SST-2</th>\n",
       "      <td>2.350065</td>\n",
       "    </tr>\n",
       "  </tbody>\n",
       "</table>\n",
       "</div>"
      ],
      "text/plain": [
       "                                               duration_s\n",
       "type                                                     \n",
       "CoLA LoRA                                        1.557595\n",
       "CoLA and SST-2 LoRA                              3.808635\n",
       "CoLA and SST-2 LoRA (Shuffled, req_size=1024)    3.915431\n",
       "CoLA and SST-2 LoRA (Shuffled, req_size=256)     4.022381\n",
       "CoLA and SST-2 LoRA (Shuffled, req_size=512)     4.084336\n",
       "CoLA and SST-2 LoRA (Shuffled, req_size=64)      4.817768\n",
       "SST-2 LoRA                                       2.305841\n",
       "Standalone SST-2                                 2.350065"
      ]
     },
     "execution_count": 39,
     "metadata": {},
     "output_type": "execute_result"
    }
   ],
   "source": [
    "df.groupby('type').mean()"
   ]
  },
  {
   "cell_type": "code",
   "execution_count": 40,
   "id": "3a49b1d5-0a2b-4a33-ab49-c0cc6da9343b",
   "metadata": {},
   "outputs": [
    {
     "data": {
      "image/png": "[encoded data removed]",
      "text/plain": [
       "alt.LayerChart(...)"
      ]
     },
     "execution_count": 40,
     "metadata": {},
     "output_type": "execute_result"
    }
   ],
   "source": [
    "df_bs = df[df.type.str.contains('req')]\n",
    "df_bs['type'] = df_bs['type'].str.extract('size=(\\d+)').astype(int)\n",
    "base = alt.Chart(df_bs, width=400).mark_bar(color='orange').encode(\n",
    "    x=alt.X('type:O'), \n",
    "    y=alt.Y('mean(duration_s):Q', scale=alt.Scale(zero=True)))\n",
    "error = base.mark_errorbar(extent='stdev').encode(y='duration_s:Q')\n",
    "base + error"
   ]
  },
  {
   "cell_type": "code",
   "execution_count": 41,
   "id": "b2ac4c90-2861-4370-9908-d19822ce39f1",
   "metadata": {},
   "outputs": [
    {
     "data": {
      "text/plain": [
       "(2.350065435682024, 0.1147209235600064, 4.881605499921438)"
      ]
     },
     "execution_count": 41,
     "metadata": {},
     "output_type": "execute_result"
    }
   ],
   "source": [
    "tm = df.groupby('type').mean().reset_index()\n",
    "tm = {row.type: row.duration_s for _, row in tm.iterrows()}\n",
    "\n",
    "sst2_lora_multi = tm['CoLA and SST-2 LoRA (Shuffled, req_size=256)'] - tm['CoLA LoRA']\n",
    "sst2_standalone = tm['Standalone SST-2']\n",
    "overhead_s = sst2_lora_multi - sst2_standalone\n",
    "overhead_fraction = overhead_s / sst2_standalone\n",
    "sst2_standalone, overhead_s, overhead_fraction * 100"
   ]
  },
  {
   "cell_type": "code",
   "execution_count": 42,
   "id": "9c632003-f253-4cd3-98d2-918a61246bc6",
   "metadata": {},
   "outputs": [
    {
     "data": {
      "image/png": "[encoded data removed]",
      "text/plain": [
       "alt.Chart(...)"
      ]
     },
     "execution_count": 42,
     "metadata": {},
     "output_type": "execute_result"
    }
   ],
   "source": [
    "import altair as alt\n",
    "import pandas as pd\n",
    "df = pd.DataFrame(data={\n",
    "    'scenario': ['Standalone', 'Multitask LoRA'],\n",
    "    'time_s': [sst2_standalone, sst2_lora_multi]\n",
    "})\n",
    "alt.Chart(df).mark_bar(color='orange').encode(\n",
    "    x=alt.X('scenario:O', sort=None), \n",
    "    y=alt.Y('time_s:Q', scale=alt.Scale(zero=False))).properties(width=200)"
   ]
  },
  {
   "cell_type": "code",
   "execution_count": 43,
   "id": "74e0f0a7-0408-4f56-bb57-168646ac5060",
   "metadata": {},
   "outputs": [
    {
     "name": "stdout",
     "output_type": "stream",
     "text": [
      "INFO:sagemaker:Deleting model with name: lora-2024-03-31-20-47-23-961\n",
      "INFO:sagemaker:Deleting endpoint configuration with name: lora-2024-03-31-20-47-23-961\n",
      "INFO:sagemaker:Deleting endpoint with name: lora-2024-03-31-20-47-23-961\n"
     ]
    }
   ],
   "source": [
    "sst2_cola_lora_predictor.delete_model()\n",
    "sst2_cola_lora_predictor.delete_endpoint()"
   ]
  },
  {
   "cell_type": "markdown",
   "id": "03ead672-0f09-4b8d-9ddc-ca3f7a7f3373",
   "metadata": {},
   "source": [
    "g4dn.xl,roberta-base\n",
    "```\n",
    "2024-03-30T12:33:35,918 [INFO ] W-9000-model_1.0 org.pytorch.serve.wlm.WorkerThread - Backend response time: 2020\n",
    "2024-03-30T12:33:35,918 [INFO ] W-9000-model_1.0 TS_METRICS - WorkerThreadTime.Milliseconds:0.0|#Level:Host|#hostname:container-0.local,timestamp:1711802015\n",
    "2024-03-30T12:33:35,993 [INFO ] epollEventLoopGroup-3-1 TS_METRICS - ts_inference_requests_total.Count:1.0|#model_name:model,model_version:default|#hostname:container-0.local,timestamp:1711802015\n",
    "2024-03-30T12:33:35,993 [INFO ] W-9000-model_1.0 org.pytorch.serve.wlm.WorkerThread - Flushing req.cmd PREDICT to backend at: 1711802015993\n",
    "2024-03-30T12:33:35,994 [INFO ] W-9000-model_1.0-stdout MODEL_LOG - Backend received inference at: 1711802015\n",
    "2024-03-30T12:33:35,995 [INFO ] W-9000-model_1.0-stdout MODEL_LOG - Running inference for task: sst2\n",
    "2024-03-30T12:33:35,995 [INFO ] W-9000-model_1.0-stdout MODEL_LOG - Removing adapter cola.\n",
    "2024-03-30T12:33:35,996 [INFO ] W-9000-model_1.0-stdout MODEL_LOG - Installing adapter sst2.\n",
    "2024-03-30T12:33:35,998 [INFO ] W-9000-model_1.0-stdout MODEL_LOG - Changing adapter (remove and install) from cola to sst2 took  2.95 ms.\n",
    "2024-03-30T12:33:36,984 [INFO ] W-9000-model_1.0-stdout MODEL_LOG - Running inference for task: cola\n",
    "2024-03-30T12:33:36,984 [INFO ] W-9000-model_1.0-stdout MODEL_LOG - Removing adapter sst2.\n",
    "2024-03-30T12:33:36,986 [INFO ] W-9000-model_1.0-stdout MODEL_LOG - Installing adapter cola.\n",
    "2024-03-30T12:33:36,988 [INFO ] W-9000-model_1.0-stdout MODEL_LOG - Changing adapter (remove and install) from sst2 to cola took  3.10 ms.\n",
    "2024-03-30T12:33:37,611 [INFO ] W-9000-model_1.0-stdout MODEL_LOG - Inference call returns 891 predictions.\n",
    "2024-03-30T12:33:37,612 [INFO ] W-9000-model_1.0-stdout org.pytorch.serve.wlm.WorkerLifeCycle - result=[METRICS]PredictionTime.Milliseconds:1618.36|#ModelName:model,Level:Model|#hostname:container-0.local,1711802017,3f4375be-834f-4767-86aa-7d0cdd8cadb3, pattern=[METRICS]\n",
    "2024-03-30T12:33:37,612 [INFO ] W-9000-model_1.0-stdout MODEL_METRICS - PredictionTime.ms:1618.36|#ModelName:model,Level:Model|#hostname:container-0.local,requestID:3f4375be-834f-4767-86aa-7d0cdd8cadb3,timestamp:1711802017\n",
    "2024-03-30T12:33:37,613 [INFO ] W-9000-model_1.0 ACCESS_LOG - /169.254.178.2:39592 \"POST /invocations HTTP/1.1\" 200 1620\n",
    "2024-03-30T12:33:37,613 [INFO ] W-9000-model_1.0 TS_METRICS - Requests2XX.Count:1.0|#Level:Host|#hostname:container-0.local,timestamp:1711802017\n",
    "2024-03-30T12:33:37,613 [INFO ] W-9000-model_1.0 TS_METRICS - ts_inference_latency_microseconds.Microseconds:1619743.598|#model_name:model,model_version:default|#hostname:container-0.local,timestamp:1711802017\n",
    "2024-03-30T12:33:37,613 [INFO ] W-9000-model_1.0 TS_METRICS - ts_queue_latency_microseconds.Microseconds:61.408|#model_name:model,model_version:default|#hostname:container-0.local,timestamp:1711802017\n",
    "2024-03-30T12:33:37,613 [INFO ] W-9000-model_1.0 TS_METRICS - QueueTime.Milliseconds:0.0|#Level:Host|#hostname:container-0.local,timestamp:1711802017\n",
    "2024-03-30T12:33:37,613 [INFO ] W-9000-model_1.0 org.pytorch.serve.wlm.WorkerThread - Backend response time: 1619\n",
    "2024-03-30T12:33:37,613 [INFO ] W-9000-model_1.0 TS_METRICS - WorkerThreadTime.Milliseconds:1.0|#Level:Host|#hostname:container-0.local,timestamp:1711802017\n",
    "2024-03-30T12:33:37,689 [INFO ] epollEventLoopGroup-3-1 TS_METRICS - ts_inference_requests_total.Count:1.0|#model_name:model,model_version:default|#hostname:container-0.local,timestamp:1711802017\n",
    "2024-03-30T12:33:37,690 [INFO ] W-9000-model_1.0 org.pytorch.serve.wlm.WorkerThread - Flushing req.cmd PREDICT to backend at: 1711802017690\n",
    "2024-03-30T12:33:37,690 [INFO ] W-9000-model_1.0-stdout MODEL_LOG - Backend received inference at: 1711802017\n",
    "2024-03-30T12:33:37,692 [INFO ] W-9000-model_1.0-stdout MODEL_LOG - Running inference for task: sst2\n",
    "2024-03-30T12:33:37,692 [INFO ] W-9000-model_1.0-stdout MODEL_LOG - Removing adapter cola.\n",
    "2024-03-30T12:33:37,693 [INFO ] W-9000-model_1.0-stdout MODEL_LOG - Installing adapter sst2.\n",
    "2024-03-30T12:33:37,695 [INFO ] W-9000-model_1.0-stdout MODEL_LOG - Changing adapter (remove and install) from cola to sst2 took  3.08 ms.\n",
    "2024-03-30T12:33:38,863 [INFO ] pool-2-thread-2 ACCESS_LOG - /169.254.178.2:57236 \"GET /ping HTTP/1.1\" 200 0\n",
    "2024-03-30T12:33:38,864 [INFO ] pool-2-thread-2 TS_METRICS - Requests2XX.Count:1.0|#Level:Host|#hostname:container-0.local,timestamp:1711802018\n",
    "2024-03-30T12:33:38,874 [INFO ] W-9000-model_1.0-stdout MODEL_LOG - Running inference for task: cola\n",
    "2024-03-30T12:33:38,875 [INFO ] W-9000-model_1.0-stdout MODEL_LOG - Removing adapter sst2.\n",
    "2024-03-30T12:33:38,876 [INFO ] W-9000-model_1.0-stdout MODEL_LOG - Installing adapter cola.\n",
    "2024-03-30T12:33:38,878 [INFO ] W-9000-model_1.0-stdout MODEL_LOG - Changing adapter (remove and install) from sst2 to cola took  3.47 ms.\n",
    "2024-03-30T12:33:39,716 [INFO ] W-9000-model_1.0-stdout MODEL_LOG - Inference call returns 1024 predictions.\n",
    "2024-03-30T12:33:39,717 [INFO ] W-9000-model_1.0-stdout org.pytorch.serve.wlm.WorkerLifeCycle - result=[METRICS]PredictionTime.Milliseconds:2026.38|#ModelName:model,Level:Model|#hostname:container-0.local,1711802019,5c86f56c-fe59-4cc4-ba9d-bd8ed4049bb2, pattern=[METRICS]\n",
    "2024-03-30T12:33:39,717 [INFO ] W-9000-model_1.0-stdout MODEL_METRICS - PredictionTime.ms:2026.38|#ModelName:model,Level:Model|#hostname:container-0.local,requestID:5c86f56c-fe59-4cc4-ba9d-bd8ed4049bb2,timestamp:1711802019\n",
    "2024-03-30T12:33:39,717 [INFO ] W-9000-model_1.0 ACCESS_LOG - /169.254.178.2:39592 \"POST /invocations HTTP/1.1\" 200 2028\n",
    "2024-03-30T12:33:39,717 [INFO ] W-9000-model_1.0 TS_METRICS - Requests2XX.Count:1.0|#Level:Host|#hostname:container-0.local,timestamp:1711802019\n",
    "2024-03-30T12:33:39,717 [INFO ] W-9000-model_1.0 TS_METRICS - ts_inference_latency_microseconds.Microseconds:2027617.502|#model_name:model,model_version:default|#hostname:container-0.local,timestamp:1711802019\n",
    "2024-03-30T12:33:39,717 [INFO ] W-9000-model_1.0 TS_METRICS - ts_queue_latency_microseconds.Microseconds:87.709|#model_name:model,model_version:default|#hostname:container-0.local,timestamp:1711802019\n",
    "2024-03-30T12:33:39,717 [INFO ] W-9000-model_1.0 TS_METRICS - QueueTime.Milliseconds:0.0|#Level:Host|#hostname:container-0.local,timestamp:1711802019\n",
    "2024-03-30T12:33:39,717 [INFO ] W-9000-model_1.0 org.pytorch.serve.wlm.WorkerThread - Backend response time: 2027\n",
    "2024-03-30T12:33:39,717 [INFO ] W-9000-model_1.0 TS_METRICS - WorkerThreadTime.Milliseconds:0.0|#Level:Host|#hostname:container-0.local,timestamp:1711802019\n",
    "2024-03-30T12:33:39,854 [INFO ] epollEventLoopGroup-3-1 TS_METRICS - ts_inference_requests_total.Count:1.0|#model_name:model,model_version:default|#hostname:container-0.local,timestamp:1711802019\n",
    "2024-03-30T12:33:39,854 [INFO ] W-9000-model_1.0 org.pytorch.serve.wlm.WorkerThread - Flushing req.cmd PREDICT to backend at: 1711802019854\n",
    "2024-03-30T12:33:39,854 [INFO ] W-9000-model_1.0-stdout MODEL_LOG - Backend received inference at: 1711802019\n",
    "2024-03-30T12:33:39,856 [INFO ] W-9000-model_1.0-stdout MODEL_LOG - Running inference for task: sst2\n",
    "2024-03-30T12:33:39,856 [INFO ] W-9000-model_1.0-stdout MODEL_LOG - Removing adapter cola.\n",
    "2024-03-30T12:33:39,857 [INFO ] W-9000-model_1.0-stdout MODEL_LOG - Installing adapter sst2.\n",
    "2024-03-30T12:33:39,859 [INFO ] W-9000-model_1.0-stdout MODEL_LOG - Changing adapter (remove and install) from cola to sst2 took  2.99 ms.\n",
    "2024-03-30T12:33:40,846 [INFO ] W-9000-model_1.0-stdout MODEL_LOG - Running inference for task: cola\n",
    "2024-03-30T12:33:40,846 [INFO ] W-9000-model_1.0-stdout MODEL_LOG - Removing adapter sst2.\n",
    "2024-03-30T12:33:40,847 [INFO ] W-9000-model_1.0-stdout MODEL_LOG - Installing adapter cola.\n",
    "2024-03-30T12:33:40,849 [INFO ] W-9000-model_1.0-stdout MODEL_LOG - Changing adapter (remove and install) from sst2 to cola took  2.95 ms.\n",
    "2024-03-30T12:33:41,466 [INFO ] W-9000-model_1.0-stdout MODEL_LOG - Inference call returns 891 predictions.\n",
    "2024-03-30T12:33:41,468 [INFO ] W-9000-model_1.0-stdout org.pytorch.serve.wlm.WorkerLifeCycle - result=[METRICS]PredictionTime.Milliseconds:1613.48|#ModelName:model,Level:Model|#hostname:container-0.local,1711802021,62e3a39c-2596-4cab-b7d5-226df9568251, pattern=[METRICS]\n",
    "2024-03-30T12:33:41,468 [INFO ] W-9000-model_1.0-stdout MODEL_METRICS - PredictionTime.ms:1613.48|#ModelName:model,Level:Model|#hostname:container-0.local,requestID:62e3a39c-2596-4cab-b7d5-226df9568251,timestamp:1711802021\n",
    "2024-03-30T12:33:41,468 [INFO ] W-9000-model_1.0 ACCESS_LOG - /169.254.178.2:39592 \"POST /invocations HTTP/1.1\" 200 1615\n",
    "2024-03-30T12:33:41,468 [INFO ] W-9000-model_1.0 TS_METRICS - Requests2XX.Count:1.0|#Level:Host|#hostname:container-0.local,timestamp:1711802021\n",
    "2024-03-30T12:33:41,468 [INFO ] W-9000-model_1.0 TS_METRICS - ts_inference_latency_microseconds.Microseconds:1614578.676|#model_name:model,model_version:default|#hostname:container-0.local,timestamp:1711802021\n",
    "2024-03-30T12:33:41,468 [INFO ] W-9000-model_1.0 TS_METRICS - ts_queue_latency_microseconds.Microseconds:71.509|#model_name:model,model_version:default|#hostname:container-0.local,timestamp:1711802021\n",
    "2024-03-30T12:33:41,468 [INFO ] W-9000-model_1.0 TS_METRICS - QueueTime.Milliseconds:0.0|#Level:Host|#hostname:container-0.local,timestamp:1711802021\n",
    "2024-03-30T12:33:41,468 [INFO ] W-9000-model_1.0 org.pytorch.serve.wlm.WorkerThread - Backend response time: 1614\n",
    "2024-03-30T12:33:41,468 [INFO ] W-9000-model_1.0 TS_METRICS - WorkerThreadTime.Milliseconds:0.0|#Level:Host|#hostname:container-0.local,timestamp:1711802021\n",
    "2024-03-30T12:33:41,582 [INFO ] epollEventLoopGroup-3-1 TS_METRICS - ts_inference_requests_total.Count:1.0|#model_name:model,model_version:default|#hostname:container-0.local,timestamp:1711802021\n",
    "2024-03-30T12:33:41,582 [INFO ] W-9000-model_1.0 org.pytorch.serve.wlm.WorkerThread - Flushing req.cmd PREDICT to backend at: 1711802021582\n",
    "2024-03-30T12:33:41,583 [INFO ] W-9000-model_1.0-stdout MODEL_LOG - Backend received inference at: 1711802021\n",
    "2024-03-30T12:33:41,584 [INFO ] W-9000-model_1.0-stdout MODEL_LOG - Running inference for task: sst2\n",
    "2024-03-30T12:33:41,584 [INFO ] W-9000-model_1.0-stdout MODEL_LOG - Removing adapter cola.\n",
    "2024-03-30T12:33:41,585 [INFO ] W-9000-model_1.0-stdout MODEL_LOG - Installing adapter sst2.\n",
    "2024-03-30T12:33:41,587 [INFO ] W-9000-model_1.0-stdout MODEL_LOG - Changing adapter (remove and install) from cola to sst2 took  3.02 ms.\n",
    "2024-03-30T12:33:42,766 [INFO ] W-9000-model_1.0-stdout MODEL_LOG - Running inference for task: cola\n",
    "2024-03-30T12:33:42,766 [INFO ] W-9000-model_1.0-stdout MODEL_LOG - Removing adapter sst2.\n",
    "2024-03-30T12:33:42,767 [INFO ] W-9000-model_1.0-stdout MODEL_LOG - Installing adapter cola.\n",
    "2024-03-30T12:33:42,769 [INFO ] W-9000-model_1.0-stdout MODEL_LOG - Changing adapter (remove and install) from sst2 to cola took  2.99 ms.\n",
    "2024-03-30T12:33:43,605 [INFO ] W-9000-model_1.0-stdout MODEL_LOG - Inference call returns 1024 predictions.\n",
    "2024-03-30T12:33:43,606 [INFO ] W-9000-model_1.0-stdout org.pytorch.serve.wlm.WorkerLifeCycle - result=[METRICS]PredictionTime.Milliseconds:2023.38|#ModelName:model,Level:Model|#hostname:container-0.local,1711802023,025adc14-11d9-4953-9228-070763ef21f6, pattern=[METRICS]\n",
    "2024-03-30T12:33:43,607 [INFO ] W-9000-model_1.0-stdout MODEL_METRICS - PredictionTime.ms:2023.38|#ModelName:model,Level:Model|#hostname:container-0.local,requestID:025adc14-11d9-4953-9228-070763ef21f6,timestamp:1711802023\n",
    "2024-03-30T12:33:43,607 [INFO ] W-9000-model_1.0 ACCESS_LOG - /169.254.178.2:39592 \"POST /invocations HTTP/1.1\" 200 2025\n",
    "2024-03-30T12:33:43,607 [INFO ] W-9000-model_1.0 TS_METRICS - Requests2XX.Count:1.0|#Level:Host|#hostname:container-0.local,timestamp:1711802023\n",
    "2024-03-30T12:33:43,607 [INFO ] W-9000-model_1.0 TS_METRICS - ts_inference_latency_microseconds.Microseconds:2024551.595|#model_name:model,model_version:default|#hostname:container-0.local,timestamp:1711802023\n",
    "2024-03-30T12:33:43,607 [INFO ] W-9000-model_1.0 TS_METRICS - ts_queue_latency_microseconds.Microseconds:77.242|#model_name:model,model_version:default|#hostname:container-0.local,timestamp:1711802023\n",
    "2024-03-30T12:33:43,607 [INFO ] W-9000-model_1.0 TS_METRICS - QueueTime.Milliseconds:0.0|#Level:Host|#hostname:container-0.local,timestamp:1711802023\n",
    "2024-03-30T12:33:43,607 [INFO ] W-9000-model_1.0 org.pytorch.serve.wlm.WorkerThread - Backend response time: 2024\n",
    "2024-03-30T12:33:43,607 [INFO ] W-9000-model_1.0 TS_METRICS - WorkerThreadTime.Milliseconds:1.0|#Level:Host|#hostname:container-0.local,timestamp:1711802023\n",
    "2024-03-30T12:33:43,694 [INFO ] epollEventLoopGroup-3-1 TS_METRICS - ts_inference_requests_total.Count:1.0|#model_name:model,model_version:default|#hostname:container-0.local,timestamp:1711802023\n",
    "2024-03-30T12:33:43,694 [INFO ] W-9000-model_1.0 org.pytorch.serve.wlm.WorkerThread - Flushing req.cmd PREDICT to backend at: 1711802023694\n",
    "2024-03-30T12:33:43,695 [INFO ] W-9000-model_1.0-stdout MODEL_LOG - Backend received inference at: 1711802023\n",
    "2024-03-30T12:33:43,696 [INFO ] W-9000-model_1.0-stdout MODEL_LOG - Running inference for task: sst2\n",
    "2024-03-30T12:33:43,696 [INFO ] W-9000-model_1.0-stdout MODEL_LOG - Removing adapter cola.\n",
    "2024-03-30T12:33:43,697 [INFO ] W-9000-model_1.0-stdout MODEL_LOG - Installing adapter sst2.\n",
    "2024-03-30T12:33:43,699 [INFO ] W-9000-model_1.0-stdout MODEL_LOG - Changing adapter (remove and install) from cola to sst2 took  3.19 ms.\n",
    "2024-03-30T12:33:43,864 [INFO ] pool-2-thread-2 ACCESS_LOG - /169.254.178.2:57236 \"GET /ping HTTP/1.1\" 200 1\n",
    "2024-03-30T12:33:43,864 [INFO ] pool-2-thread-2 TS_METRICS - Requests2XX.Count:1.0|#Level:Host|#hostname:container-0.local,timestamp:1711802023\n",
    "2024-03-30T12:33:44,688 [INFO ] W-9000-model_1.0-stdout MODEL_LOG - Running inference for task: cola\n",
    "2024-03-30T12:33:44,688 [INFO ] W-9000-model_1.0-stdout MODEL_LOG - Removing adapter sst2.\n",
    "2024-03-30T12:33:44,689 [INFO ] W-9000-model_1.0-stdout MODEL_LOG - Installing adapter cola.\n",
    "2024-03-30T12:33:44,691 [INFO ] W-9000-model_1.0-stdout MODEL_LOG - Changing adapter (remove and install) from sst2 to cola took  3.11 ms.\n",
    "2024-03-30T12:33:45,310 [INFO ] W-9000-model_1.0-stdout MODEL_LOG - Inference call returns 891 predictions.\n",
    "2024-03-30T12:33:45,311 [INFO ] W-9000-model_1.0-stdout org.pytorch.serve.wlm.WorkerLifeCycle - result=[METRICS]PredictionTime.Milliseconds:1616.61|#ModelName:model,Level:Model|#hostname:container-0.local,1711802025,c60b8632-6396-41bf-9dc0-2cdfb17ea11f, pattern=[METRICS]\n",
    "2024-03-30T12:33:45,312 [INFO ] W-9000-model_1.0-stdout MODEL_METRICS - PredictionTime.ms:1616.61|#ModelName:model,Level:Model|#hostname:container-0.local,requestID:c60b8632-6396-41bf-9dc0-2cdfb17ea11f,timestamp:1711802025\n",
    "2024-03-30T12:33:45,312 [INFO ] W-9000-model_1.0 ACCESS_LOG - /169.254.178.2:39592 \"POST /invocations HTTP/1.1\" 200 1618\n",
    "2024-03-30T12:33:45,312 [INFO ] W-9000-model_1.0 TS_METRICS - Requests2XX.Count:1.0|#Level:Host|#hostname:container-0.local,timestamp:1711802025\n",
    "2024-03-30T12:33:45,312 [INFO ] W-9000-model_1.0 TS_METRICS - ts_inference_latency_microseconds.Microseconds:1617942.474|#model_name:model,model_version:default|#hostname:container-0.local,timestamp:1711802025\n",
    "2024-03-30T12:33:45,312 [INFO ] W-9000-model_1.0 TS_METRICS - ts_queue_latency_microseconds.Microseconds:73.046|#model_name:model,model_version:default|#hostname:container-0.local,timestamp:1711802025\n",
    "2024-03-30T12:33:45,312 [INFO ] W-9000-model_1.0 TS_METRICS - QueueTime.Milliseconds:0.0|#Level:Host|#hostname:container-0.local,timestamp:1711802025\n",
    "2024-03-30T12:33:45,312 [INFO ] W-9000-model_1.0 org.pytorch.serve.wlm.WorkerThread - Backend response time: 1618\n",
    "2024-03-30T12:33:45,312 [INFO ] W-9000-model_1.0 TS_METRICS - WorkerThreadTime.Milliseconds:0.0|#Level:Host|#hostname:container-0.local,timestamp:1711802025\n",
    "2024-03-30T12:33:48,864 [INFO ] pool-2-thread-2 ACCESS_LOG - /169.254.178.2:39592 \"GET /ping HTTP/1.1\" 200 0\n",
    "2024-03-30T12:33:48,864 [INFO ] pool-2-thread-2 TS_METRICS - Requests2XX.Count:1.0|#Level:Host|#hostname:container-0.local,timestamp:1711802028\n",
    "```"
   ]
  },
  {
   "cell_type": "code",
   "execution_count": null,
   "id": "d65b2f95-f235-4d8a-9a3e-7e3d7001d149",
   "metadata": {},
   "outputs": [],
   "source": []
  }
 ],
 "metadata": {
  "availableInstances": [
   {
    "_defaultOrder": 0,
    "_isFastLaunch": true,
    "category": "General purpose",
    "gpuNum": 0,
    "hideHardwareSpecs": false,
    "memoryGiB": 4,
    "name": "ml.t3.medium",
    "vcpuNum": 2
   },
   {
    "_defaultOrder": 1,
    "_isFastLaunch": false,
    "category": "General purpose",
    "gpuNum": 0,
    "hideHardwareSpecs": false,
    "memoryGiB": 8,
    "name": "ml.t3.large",
    "vcpuNum": 2
   },
   {
    "_defaultOrder": 2,
    "_isFastLaunch": false,
    "category": "General purpose",
    "gpuNum": 0,
    "hideHardwareSpecs": false,
    "memoryGiB": 16,
    "name": "ml.t3.xlarge",
    "vcpuNum": 4
   },
   {
    "_defaultOrder": 3,
    "_isFastLaunch": false,
    "category": "General purpose",
    "gpuNum": 0,
    "hideHardwareSpecs": false,
    "memoryGiB": 32,
    "name": "ml.t3.2xlarge",
    "vcpuNum": 8
   },
   {
    "_defaultOrder": 4,
    "_isFastLaunch": true,
    "category": "General purpose",
    "gpuNum": 0,
    "hideHardwareSpecs": false,
    "memoryGiB": 8,
    "name": "ml.m5.large",
    "vcpuNum": 2
   },
   {
    "_defaultOrder": 5,
    "_isFastLaunch": false,
    "category": "General purpose",
    "gpuNum": 0,
    "hideHardwareSpecs": false,
    "memoryGiB": 16,
    "name": "ml.m5.xlarge",
    "vcpuNum": 4
   },
   {
    "_defaultOrder": 6,
    "_isFastLaunch": false,
    "category": "General purpose",
    "gpuNum": 0,
    "hideHardwareSpecs": false,
    "memoryGiB": 32,
    "name": "ml.m5.2xlarge",
    "vcpuNum": 8
   },
   {
    "_defaultOrder": 7,
    "_isFastLaunch": false,
    "category": "General purpose",
    "gpuNum": 0,
    "hideHardwareSpecs": false,
    "memoryGiB": 64,
    "name": "ml.m5.4xlarge",
    "vcpuNum": 16
   },
   {
    "_defaultOrder": 8,
    "_isFastLaunch": false,
    "category": "General purpose",
    "gpuNum": 0,
    "hideHardwareSpecs": false,
    "memoryGiB": 128,
    "name": "ml.m5.8xlarge",
    "vcpuNum": 32
   },
   {
    "_defaultOrder": 9,
    "_isFastLaunch": false,
    "category": "General purpose",
    "gpuNum": 0,
    "hideHardwareSpecs": false,
    "memoryGiB": 192,
    "name": "ml.m5.12xlarge",
    "vcpuNum": 48
   },
   {
    "_defaultOrder": 10,
    "_isFastLaunch": false,
    "category": "General purpose",
    "gpuNum": 0,
    "hideHardwareSpecs": false,
    "memoryGiB": 256,
    "name": "ml.m5.16xlarge",
    "vcpuNum": 64
   },
   {
    "_defaultOrder": 11,
    "_isFastLaunch": false,
    "category": "General purpose",
    "gpuNum": 0,
    "hideHardwareSpecs": false,
    "memoryGiB": 384,
    "name": "ml.m5.24xlarge",
    "vcpuNum": 96
   },
   {
    "_defaultOrder": 12,
    "_isFastLaunch": false,
    "category": "General purpose",
    "gpuNum": 0,
    "hideHardwareSpecs": false,
    "memoryGiB": 8,
    "name": "ml.m5d.large",
    "vcpuNum": 2
   },
   {
    "_defaultOrder": 13,
    "_isFastLaunch": false,
    "category": "General purpose",
    "gpuNum": 0,
    "hideHardwareSpecs": false,
    "memoryGiB": 16,
    "name": "ml.m5d.xlarge",
    "vcpuNum": 4
   },
   {
    "_defaultOrder": 14,
    "_isFastLaunch": false,
    "category": "General purpose",
    "gpuNum": 0,
    "hideHardwareSpecs": false,
    "memoryGiB": 32,
    "name": "ml.m5d.2xlarge",
    "vcpuNum": 8
   },
   {
    "_defaultOrder": 15,
    "_isFastLaunch": false,
    "category": "General purpose",
    "gpuNum": 0,
    "hideHardwareSpecs": false,
    "memoryGiB": 64,
    "name": "ml.m5d.4xlarge",
    "vcpuNum": 16
   },
   {
    "_defaultOrder": 16,
    "_isFastLaunch": false,
    "category": "General purpose",
    "gpuNum": 0,
    "hideHardwareSpecs": false,
    "memoryGiB": 128,
    "name": "ml.m5d.8xlarge",
    "vcpuNum": 32
   },
   {
    "_defaultOrder": 17,
    "_isFastLaunch": false,
    "category": "General purpose",
    "gpuNum": 0,
    "hideHardwareSpecs": false,
    "memoryGiB": 192,
    "name": "ml.m5d.12xlarge",
    "vcpuNum": 48
   },
   {
    "_defaultOrder": 18,
    "_isFastLaunch": false,
    "category": "General purpose",
    "gpuNum": 0,
    "hideHardwareSpecs": false,
    "memoryGiB": 256,
    "name": "ml.m5d.16xlarge",
    "vcpuNum": 64
   },
   {
    "_defaultOrder": 19,
    "_isFastLaunch": false,
    "category": "General purpose",
    "gpuNum": 0,
    "hideHardwareSpecs": false,
    "memoryGiB": 384,
    "name": "ml.m5d.24xlarge",
    "vcpuNum": 96
   },
   {
    "_defaultOrder": 20,
    "_isFastLaunch": false,
    "category": "General purpose",
    "gpuNum": 0,
    "hideHardwareSpecs": true,
    "memoryGiB": 0,
    "name": "ml.geospatial.interactive",
    "supportedImageNames": [
     "sagemaker-geospatial-v1-0"
    ],
    "vcpuNum": 0
   },
   {
    "_defaultOrder": 21,
    "_isFastLaunch": true,
    "category": "Compute optimized",
    "gpuNum": 0,
    "hideHardwareSpecs": false,
    "memoryGiB": 4,
    "name": "ml.c5.large",
    "vcpuNum": 2
   },
   {
    "_defaultOrder": 22,
    "_isFastLaunch": false,
    "category": "Compute optimized",
    "gpuNum": 0,
    "hideHardwareSpecs": false,
    "memoryGiB": 8,
    "name": "ml.c5.xlarge",
    "vcpuNum": 4
   },
   {
    "_defaultOrder": 23,
    "_isFastLaunch": false,
    "category": "Compute optimized",
    "gpuNum": 0,
    "hideHardwareSpecs": false,
    "memoryGiB": 16,
    "name": "ml.c5.2xlarge",
    "vcpuNum": 8
   },
   {
    "_defaultOrder": 24,
    "_isFastLaunch": false,
    "category": "Compute optimized",
    "gpuNum": 0,
    "hideHardwareSpecs": false,
    "memoryGiB": 32,
    "name": "ml.c5.4xlarge",
    "vcpuNum": 16
   },
   {
    "_defaultOrder": 25,
    "_isFastLaunch": false,
    "category": "Compute optimized",
    "gpuNum": 0,
    "hideHardwareSpecs": false,
    "memoryGiB": 72,
    "name": "ml.c5.9xlarge",
    "vcpuNum": 36
   },
   {
    "_defaultOrder": 26,
    "_isFastLaunch": false,
    "category": "Compute optimized",
    "gpuNum": 0,
    "hideHardwareSpecs": false,
    "memoryGiB": 96,
    "name": "ml.c5.12xlarge",
    "vcpuNum": 48
   },
   {
    "_defaultOrder": 27,
    "_isFastLaunch": false,
    "category": "Compute optimized",
    "gpuNum": 0,
    "hideHardwareSpecs": false,
    "memoryGiB": 144,
    "name": "ml.c5.18xlarge",
    "vcpuNum": 72
   },
   {
    "_defaultOrder": 28,
    "_isFastLaunch": false,
    "category": "Compute optimized",
    "gpuNum": 0,
    "hideHardwareSpecs": false,
    "memoryGiB": 192,
    "name": "ml.c5.24xlarge",
    "vcpuNum": 96
   },
   {
    "_defaultOrder": 29,
    "_isFastLaunch": true,
    "category": "Accelerated computing",
    "gpuNum": 1,
    "hideHardwareSpecs": false,
    "memoryGiB": 16,
    "name": "ml.g4dn.xlarge",
    "vcpuNum": 4
   },
   {
    "_defaultOrder": 30,
    "_isFastLaunch": false,
    "category": "Accelerated computing",
    "gpuNum": 1,
    "hideHardwareSpecs": false,
    "memoryGiB": 32,
    "name": "ml.g4dn.2xlarge",
    "vcpuNum": 8
   },
   {
    "_defaultOrder": 31,
    "_isFastLaunch": false,
    "category": "Accelerated computing",
    "gpuNum": 1,
    "hideHardwareSpecs": false,
    "memoryGiB": 64,
    "name": "ml.g4dn.4xlarge",
    "vcpuNum": 16
   },
   {
    "_defaultOrder": 32,
    "_isFastLaunch": false,
    "category": "Accelerated computing",
    "gpuNum": 1,
    "hideHardwareSpecs": false,
    "memoryGiB": 128,
    "name": "ml.g4dn.8xlarge",
    "vcpuNum": 32
   },
   {
    "_defaultOrder": 33,
    "_isFastLaunch": false,
    "category": "Accelerated computing",
    "gpuNum": 4,
    "hideHardwareSpecs": false,
    "memoryGiB": 192,
    "name": "ml.g4dn.12xlarge",
    "vcpuNum": 48
   },
   {
    "_defaultOrder": 34,
    "_isFastLaunch": false,
    "category": "Accelerated computing",
    "gpuNum": 1,
    "hideHardwareSpecs": false,
    "memoryGiB": 256,
    "name": "ml.g4dn.16xlarge",
    "vcpuNum": 64
   },
   {
    "_defaultOrder": 35,
    "_isFastLaunch": false,
    "category": "Accelerated computing",
    "gpuNum": 1,
    "hideHardwareSpecs": false,
    "memoryGiB": 61,
    "name": "ml.p3.2xlarge",
    "vcpuNum": 8
   },
   {
    "_defaultOrder": 36,
    "_isFastLaunch": false,
    "category": "Accelerated computing",
    "gpuNum": 4,
    "hideHardwareSpecs": false,
    "memoryGiB": 244,
    "name": "ml.p3.8xlarge",
    "vcpuNum": 32
   },
   {
    "_defaultOrder": 37,
    "_isFastLaunch": false,
    "category": "Accelerated computing",
    "gpuNum": 8,
    "hideHardwareSpecs": false,
    "memoryGiB": 488,
    "name": "ml.p3.16xlarge",
    "vcpuNum": 64
   },
   {
    "_defaultOrder": 38,
    "_isFastLaunch": false,
    "category": "Accelerated computing",
    "gpuNum": 8,
    "hideHardwareSpecs": false,
    "memoryGiB": 768,
    "name": "ml.p3dn.24xlarge",
    "vcpuNum": 96
   },
   {
    "_defaultOrder": 39,
    "_isFastLaunch": false,
    "category": "Memory Optimized",
    "gpuNum": 0,
    "hideHardwareSpecs": false,
    "memoryGiB": 16,
    "name": "ml.r5.large",
    "vcpuNum": 2
   },
   {
    "_defaultOrder": 40,
    "_isFastLaunch": false,
    "category": "Memory Optimized",
    "gpuNum": 0,
    "hideHardwareSpecs": false,
    "memoryGiB": 32,
    "name": "ml.r5.xlarge",
    "vcpuNum": 4
   },
   {
    "_defaultOrder": 41,
    "_isFastLaunch": false,
    "category": "Memory Optimized",
    "gpuNum": 0,
    "hideHardwareSpecs": false,
    "memoryGiB": 64,
    "name": "ml.r5.2xlarge",
    "vcpuNum": 8
   },
   {
    "_defaultOrder": 42,
    "_isFastLaunch": false,
    "category": "Memory Optimized",
    "gpuNum": 0,
    "hideHardwareSpecs": false,
    "memoryGiB": 128,
    "name": "ml.r5.4xlarge",
    "vcpuNum": 16
   },
   {
    "_defaultOrder": 43,
    "_isFastLaunch": false,
    "category": "Memory Optimized",
    "gpuNum": 0,
    "hideHardwareSpecs": false,
    "memoryGiB": 256,
    "name": "ml.r5.8xlarge",
    "vcpuNum": 32
   },
   {
    "_defaultOrder": 44,
    "_isFastLaunch": false,
    "category": "Memory Optimized",
    "gpuNum": 0,
    "hideHardwareSpecs": false,
    "memoryGiB": 384,
    "name": "ml.r5.12xlarge",
    "vcpuNum": 48
   },
   {
    "_defaultOrder": 45,
    "_isFastLaunch": false,
    "category": "Memory Optimized",
    "gpuNum": 0,
    "hideHardwareSpecs": false,
    "memoryGiB": 512,
    "name": "ml.r5.16xlarge",
    "vcpuNum": 64
   },
   {
    "_defaultOrder": 46,
    "_isFastLaunch": false,
    "category": "Memory Optimized",
    "gpuNum": 0,
    "hideHardwareSpecs": false,
    "memoryGiB": 768,
    "name": "ml.r5.24xlarge",
    "vcpuNum": 96
   },
   {
    "_defaultOrder": 47,
    "_isFastLaunch": false,
    "category": "Accelerated computing",
    "gpuNum": 1,
    "hideHardwareSpecs": false,
    "memoryGiB": 16,
    "name": "ml.g5.xlarge",
    "vcpuNum": 4
   },
   {
    "_defaultOrder": 48,
    "_isFastLaunch": false,
    "category": "Accelerated computing",
    "gpuNum": 1,
    "hideHardwareSpecs": false,
    "memoryGiB": 32,
    "name": "ml.g5.2xlarge",
    "vcpuNum": 8
   },
   {
    "_defaultOrder": 49,
    "_isFastLaunch": false,
    "category": "Accelerated computing",
    "gpuNum": 1,
    "hideHardwareSpecs": false,
    "memoryGiB": 64,
    "name": "ml.g5.4xlarge",
    "vcpuNum": 16
   },
   {
    "_defaultOrder": 50,
    "_isFastLaunch": false,
    "category": "Accelerated computing",
    "gpuNum": 1,
    "hideHardwareSpecs": false,
    "memoryGiB": 128,
    "name": "ml.g5.8xlarge",
    "vcpuNum": 32
   },
   {
    "_defaultOrder": 51,
    "_isFastLaunch": false,
    "category": "Accelerated computing",
    "gpuNum": 1,
    "hideHardwareSpecs": false,
    "memoryGiB": 256,
    "name": "ml.g5.16xlarge",
    "vcpuNum": 64
   },
   {
    "_defaultOrder": 52,
    "_isFastLaunch": false,
    "category": "Accelerated computing",
    "gpuNum": 4,
    "hideHardwareSpecs": false,
    "memoryGiB": 192,
    "name": "ml.g5.12xlarge",
    "vcpuNum": 48
   },
   {
    "_defaultOrder": 53,
    "_isFastLaunch": false,
    "category": "Accelerated computing",
    "gpuNum": 4,
    "hideHardwareSpecs": false,
    "memoryGiB": 384,
    "name": "ml.g5.24xlarge",
    "vcpuNum": 96
   },
   {
    "_defaultOrder": 54,
    "_isFastLaunch": false,
    "category": "Accelerated computing",
    "gpuNum": 8,
    "hideHardwareSpecs": false,
    "memoryGiB": 768,
    "name": "ml.g5.48xlarge",
    "vcpuNum": 192
   }
  ],
  "instance_type": "ml.t3.medium",
  "kernelspec": {
   "display_name": "Python 3 (ipykernel)",
   "language": "python",
   "name": "python3"
  },
  "language_info": {
   "codemirror_mode": {
    "name": "ipython",
    "version": 3
   },
   "file_extension": ".py",
   "mimetype": "text/x-python",
   "name": "python",
   "nbconvert_exporter": "python",
   "pygments_lexer": "ipython3",
   "version": "3.10.12"
  }
 },
 "nbformat": 4,
 "nbformat_minor": 5
}
